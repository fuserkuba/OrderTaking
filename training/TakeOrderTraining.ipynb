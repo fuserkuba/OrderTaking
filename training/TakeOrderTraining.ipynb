{
  "nbformat": 4,
  "nbformat_minor": 0,
  "metadata": {
    "colab": {
      "name": "TakeOrderTraining",
      "provenance": [],
      "collapsed_sections": [],
      "toc_visible": true,
      "authorship_tag": "ABX9TyM7sjzLcmxCP8FJXiTGujDn",
      "include_colab_link": true
    },
    "kernelspec": {
      "name": "python3",
      "display_name": "Python 3"
    }
  },
  "cells": [
    {
      "cell_type": "markdown",
      "metadata": {
        "id": "view-in-github",
        "colab_type": "text"
      },
      "source": [
        "<a href=\"https://colab.research.google.com/github/fuserkuba/OrderTaking/blob/master/training/TakeOrderTraining.ipynb\" target=\"_parent\"><img src=\"https://colab.research.google.com/assets/colab-badge.svg\" alt=\"Open In Colab\"/></a>"
      ]
    },
    {
      "cell_type": "markdown",
      "metadata": {
        "id": "uy0sHNVZIren"
      },
      "source": [
        "LOADING DATA"
      ]
    },
    {
      "cell_type": "code",
      "metadata": {
        "id": "-B2RLkMD9VG8",
        "outputId": "cdac718a-3c49-4be5-b104-961b90b8d5df",
        "colab": {
          "base_uri": "https://localhost:8080/",
          "height": 274
        }
      },
      "source": [
        "import pandas as pd\n",
        "import numpy as np\n",
        "import requests\n",
        "\n",
        "\n",
        "filename = \"https://raw.githubusercontent.com/fuserkuba/OrderTaking/master/training/orders.csv\"\n",
        "\n",
        "df = pd.read_csv(filename, na_values=[\"\"], parse_dates=['created_at'], infer_datetime_format=True)\n",
        "\n",
        "df.info()"
      ],
      "execution_count": 90,
      "outputs": [
        {
          "output_type": "stream",
          "text": [
            "<class 'pandas.core.frame.DataFrame'>\n",
            "RangeIndex: 146987 entries, 0 to 146986\n",
            "Data columns (total 7 columns):\n",
            " #   Column             Non-Null Count   Dtype         \n",
            "---  ------             --------------   -----         \n",
            " 0   order_id           146987 non-null  int64         \n",
            " 1   store_id           146987 non-null  int64         \n",
            " 2   to_user_distance   146987 non-null  float64       \n",
            " 3   to_user_elevation  146987 non-null  float64       \n",
            " 4   total_earning      146987 non-null  int64         \n",
            " 5   created_at         146987 non-null  datetime64[ns]\n",
            " 6   taken              146987 non-null  int64         \n",
            "dtypes: datetime64[ns](1), float64(2), int64(4)\n",
            "memory usage: 7.9 MB\n"
          ],
          "name": "stdout"
        }
      ]
    },
    {
      "cell_type": "markdown",
      "metadata": {
        "id": "GAd5yCpILzHK"
      },
      "source": [
        "# EXPLORATORY DATA ANALYSIS"
      ]
    },
    {
      "cell_type": "code",
      "metadata": {
        "id": "GFkIhq3wIwH1",
        "outputId": "14e61ccf-be4a-418b-e14b-afe4618c59f8",
        "colab": {
          "base_uri": "https://localhost:8080/",
          "height": 490
        }
      },
      "source": [
        "display(df.head())\n",
        "\n",
        "display(df.describe())"
      ],
      "execution_count": 91,
      "outputs": [
        {
          "output_type": "display_data",
          "data": {
            "text/html": [
              "<div>\n",
              "<style scoped>\n",
              "    .dataframe tbody tr th:only-of-type {\n",
              "        vertical-align: middle;\n",
              "    }\n",
              "\n",
              "    .dataframe tbody tr th {\n",
              "        vertical-align: top;\n",
              "    }\n",
              "\n",
              "    .dataframe thead th {\n",
              "        text-align: right;\n",
              "    }\n",
              "</style>\n",
              "<table border=\"1\" class=\"dataframe\">\n",
              "  <thead>\n",
              "    <tr style=\"text-align: right;\">\n",
              "      <th></th>\n",
              "      <th>order_id</th>\n",
              "      <th>store_id</th>\n",
              "      <th>to_user_distance</th>\n",
              "      <th>to_user_elevation</th>\n",
              "      <th>total_earning</th>\n",
              "      <th>created_at</th>\n",
              "      <th>taken</th>\n",
              "    </tr>\n",
              "  </thead>\n",
              "  <tbody>\n",
              "    <tr>\n",
              "      <th>0</th>\n",
              "      <td>14364873</td>\n",
              "      <td>30000009</td>\n",
              "      <td>2.478101</td>\n",
              "      <td>-72.719360</td>\n",
              "      <td>4200</td>\n",
              "      <td>2017-09-07 20:02:17</td>\n",
              "      <td>0</td>\n",
              "    </tr>\n",
              "    <tr>\n",
              "      <th>1</th>\n",
              "      <td>14370123</td>\n",
              "      <td>30000058</td>\n",
              "      <td>0.451711</td>\n",
              "      <td>37.754761</td>\n",
              "      <td>4200</td>\n",
              "      <td>2017-09-07 20:13:16</td>\n",
              "      <td>0</td>\n",
              "    </tr>\n",
              "    <tr>\n",
              "      <th>2</th>\n",
              "      <td>14368534</td>\n",
              "      <td>900003684</td>\n",
              "      <td>2.026072</td>\n",
              "      <td>207.191162</td>\n",
              "      <td>4000</td>\n",
              "      <td>2017-09-07 20:07:23</td>\n",
              "      <td>0</td>\n",
              "    </tr>\n",
              "    <tr>\n",
              "      <th>3</th>\n",
              "      <td>14370258</td>\n",
              "      <td>900014452</td>\n",
              "      <td>2.671432</td>\n",
              "      <td>1.722656</td>\n",
              "      <td>4400</td>\n",
              "      <td>2017-09-07 20:15:19</td>\n",
              "      <td>1</td>\n",
              "    </tr>\n",
              "    <tr>\n",
              "      <th>4</th>\n",
              "      <td>14369923</td>\n",
              "      <td>900014085</td>\n",
              "      <td>0.965496</td>\n",
              "      <td>117.429199</td>\n",
              "      <td>3450</td>\n",
              "      <td>2017-09-07 20:12:14</td>\n",
              "      <td>1</td>\n",
              "    </tr>\n",
              "  </tbody>\n",
              "</table>\n",
              "</div>"
            ],
            "text/plain": [
              "   order_id   store_id  ...          created_at  taken\n",
              "0  14364873   30000009  ... 2017-09-07 20:02:17      0\n",
              "1  14370123   30000058  ... 2017-09-07 20:13:16      0\n",
              "2  14368534  900003684  ... 2017-09-07 20:07:23      0\n",
              "3  14370258  900014452  ... 2017-09-07 20:15:19      1\n",
              "4  14369923  900014085  ... 2017-09-07 20:12:14      1\n",
              "\n",
              "[5 rows x 7 columns]"
            ]
          },
          "metadata": {
            "tags": []
          }
        },
        {
          "output_type": "display_data",
          "data": {
            "text/html": [
              "<div>\n",
              "<style scoped>\n",
              "    .dataframe tbody tr th:only-of-type {\n",
              "        vertical-align: middle;\n",
              "    }\n",
              "\n",
              "    .dataframe tbody tr th {\n",
              "        vertical-align: top;\n",
              "    }\n",
              "\n",
              "    .dataframe thead th {\n",
              "        text-align: right;\n",
              "    }\n",
              "</style>\n",
              "<table border=\"1\" class=\"dataframe\">\n",
              "  <thead>\n",
              "    <tr style=\"text-align: right;\">\n",
              "      <th></th>\n",
              "      <th>order_id</th>\n",
              "      <th>store_id</th>\n",
              "      <th>to_user_distance</th>\n",
              "      <th>to_user_elevation</th>\n",
              "      <th>total_earning</th>\n",
              "      <th>taken</th>\n",
              "    </tr>\n",
              "  </thead>\n",
              "  <tbody>\n",
              "    <tr>\n",
              "      <th>count</th>\n",
              "      <td>1.469870e+05</td>\n",
              "      <td>1.469870e+05</td>\n",
              "      <td>146987.000000</td>\n",
              "      <td>146987.000000</td>\n",
              "      <td>146987.000000</td>\n",
              "      <td>146987.000000</td>\n",
              "    </tr>\n",
              "    <tr>\n",
              "      <th>mean</th>\n",
              "      <td>1.507718e+07</td>\n",
              "      <td>7.580708e+08</td>\n",
              "      <td>1.501015</td>\n",
              "      <td>26.899130</td>\n",
              "      <td>5358.641594</td>\n",
              "      <td>0.921218</td>\n",
              "    </tr>\n",
              "    <tr>\n",
              "      <th>std</th>\n",
              "      <td>4.750119e+05</td>\n",
              "      <td>3.214280e+08</td>\n",
              "      <td>0.845776</td>\n",
              "      <td>84.907724</td>\n",
              "      <td>1779.800955</td>\n",
              "      <td>0.269400</td>\n",
              "    </tr>\n",
              "    <tr>\n",
              "      <th>min</th>\n",
              "      <td>1.421073e+07</td>\n",
              "      <td>3.000000e+07</td>\n",
              "      <td>0.000000</td>\n",
              "      <td>-598.296875</td>\n",
              "      <td>0.000000</td>\n",
              "      <td>0.000000</td>\n",
              "    </tr>\n",
              "    <tr>\n",
              "      <th>25%</th>\n",
              "      <td>1.466969e+07</td>\n",
              "      <td>9.000045e+08</td>\n",
              "      <td>0.836511</td>\n",
              "      <td>-18.348755</td>\n",
              "      <td>4200.000000</td>\n",
              "      <td>1.000000</td>\n",
              "    </tr>\n",
              "    <tr>\n",
              "      <th>50%</th>\n",
              "      <td>1.509241e+07</td>\n",
              "      <td>9.000077e+08</td>\n",
              "      <td>1.390230</td>\n",
              "      <td>11.145264</td>\n",
              "      <td>5200.000000</td>\n",
              "      <td>1.000000</td>\n",
              "    </tr>\n",
              "    <tr>\n",
              "      <th>75%</th>\n",
              "      <td>1.547355e+07</td>\n",
              "      <td>9.000127e+08</td>\n",
              "      <td>2.029955</td>\n",
              "      <td>61.024353</td>\n",
              "      <td>6300.000000</td>\n",
              "      <td>1.000000</td>\n",
              "    </tr>\n",
              "    <tr>\n",
              "      <th>max</th>\n",
              "      <td>1.590252e+07</td>\n",
              "      <td>9.000173e+08</td>\n",
              "      <td>9.360177</td>\n",
              "      <td>1009.380005</td>\n",
              "      <td>108200.000000</td>\n",
              "      <td>1.000000</td>\n",
              "    </tr>\n",
              "  </tbody>\n",
              "</table>\n",
              "</div>"
            ],
            "text/plain": [
              "           order_id      store_id  ...  total_earning          taken\n",
              "count  1.469870e+05  1.469870e+05  ...  146987.000000  146987.000000\n",
              "mean   1.507718e+07  7.580708e+08  ...    5358.641594       0.921218\n",
              "std    4.750119e+05  3.214280e+08  ...    1779.800955       0.269400\n",
              "min    1.421073e+07  3.000000e+07  ...       0.000000       0.000000\n",
              "25%    1.466969e+07  9.000045e+08  ...    4200.000000       1.000000\n",
              "50%    1.509241e+07  9.000077e+08  ...    5200.000000       1.000000\n",
              "75%    1.547355e+07  9.000127e+08  ...    6300.000000       1.000000\n",
              "max    1.590252e+07  9.000173e+08  ...  108200.000000       1.000000\n",
              "\n",
              "[8 rows x 6 columns]"
            ]
          },
          "metadata": {
            "tags": []
          }
        }
      ]
    },
    {
      "cell_type": "code",
      "metadata": {
        "id": "lXhTw_QOcOU9",
        "outputId": "5935693a-a361-4492-aaa3-56b8bce563ff",
        "colab": {
          "base_uri": "https://localhost:8080/",
          "height": 90
        }
      },
      "source": [
        "display(df.taken.value_counts().sort_index())\n",
        "print(\"%0.2f percent of orders taken\" % (df.taken.mean()*100))"
      ],
      "execution_count": 92,
      "outputs": [
        {
          "output_type": "display_data",
          "data": {
            "text/plain": [
              "0     11580\n",
              "1    135407\n",
              "Name: taken, dtype: int64"
            ]
          },
          "metadata": {
            "tags": []
          }
        },
        {
          "output_type": "stream",
          "text": [
            "92.12 percent of orders taken\n"
          ],
          "name": "stdout"
        }
      ]
    },
    {
      "cell_type": "code",
      "metadata": {
        "id": "uW4mKLnQPti6",
        "outputId": "9a7ced75-cade-4ba1-9969-a4999dc79ab8",
        "colab": {
          "base_uri": "https://localhost:8080/",
          "height": 950
        }
      },
      "source": [
        "import matplotlib.pyplot as plt\n",
        "import seaborn as sns\n",
        "\n",
        "# No earning\n",
        "display(df[df.total_earning == 0].head())\n",
        "\n",
        "plt.hist(df.total_earning, bins=100)\n",
        "plt.xlabel('Courier earning by delivering the order')\n",
        "plt.ylabel('Count of orders')\n",
        "plt.show()\n",
        "\n",
        "\n",
        "# No distance\n",
        "display(df[df.to_user_distance == 0].head())\n",
        "plt.hist(df.to_user_distance, bins=10)\n",
        "plt.xlabel('Distance (km) between store and user location')\n",
        "plt.ylabel('Count of orders')\n",
        "plt.show()\n",
        "\n",
        "#plt.hist(df.to_user_elevation, bins=100)\n",
        "#plt.xlabel('Difference in meters between the store and user altitude')\n",
        "#plt.ylabel('Count of orders')\n",
        "#plt.show()\n",
        "sns.kdeplot(df.to_user_elevation)\n",
        "\n"
      ],
      "execution_count": 93,
      "outputs": [
        {
          "output_type": "display_data",
          "data": {
            "text/html": [
              "<div>\n",
              "<style scoped>\n",
              "    .dataframe tbody tr th:only-of-type {\n",
              "        vertical-align: middle;\n",
              "    }\n",
              "\n",
              "    .dataframe tbody tr th {\n",
              "        vertical-align: top;\n",
              "    }\n",
              "\n",
              "    .dataframe thead th {\n",
              "        text-align: right;\n",
              "    }\n",
              "</style>\n",
              "<table border=\"1\" class=\"dataframe\">\n",
              "  <thead>\n",
              "    <tr style=\"text-align: right;\">\n",
              "      <th></th>\n",
              "      <th>order_id</th>\n",
              "      <th>store_id</th>\n",
              "      <th>to_user_distance</th>\n",
              "      <th>to_user_elevation</th>\n",
              "      <th>total_earning</th>\n",
              "      <th>created_at</th>\n",
              "      <th>taken</th>\n",
              "    </tr>\n",
              "  </thead>\n",
              "  <tbody>\n",
              "    <tr>\n",
              "      <th>102163</th>\n",
              "      <td>14323700</td>\n",
              "      <td>900010714</td>\n",
              "      <td>1.388912</td>\n",
              "      <td>48.826538</td>\n",
              "      <td>0</td>\n",
              "      <td>2017-09-07 12:02:05</td>\n",
              "      <td>1</td>\n",
              "    </tr>\n",
              "  </tbody>\n",
              "</table>\n",
              "</div>"
            ],
            "text/plain": [
              "        order_id   store_id  ...          created_at  taken\n",
              "102163  14323700  900010714  ... 2017-09-07 12:02:05      1\n",
              "\n",
              "[1 rows x 7 columns]"
            ]
          },
          "metadata": {
            "tags": []
          }
        },
        {
          "output_type": "display_data",
          "data": {
            "image/png": "[encoded data removed]",
            "text/plain": [
              "<Figure size 432x288 with 1 Axes>"
            ]
          },
          "metadata": {
            "tags": [],
            "needs_background": "light"
          }
        },
        {
          "output_type": "display_data",
          "data": {
            "text/html": [
              "<div>\n",
              "<style scoped>\n",
              "    .dataframe tbody tr th:only-of-type {\n",
              "        vertical-align: middle;\n",
              "    }\n",
              "\n",
              "    .dataframe tbody tr th {\n",
              "        vertical-align: top;\n",
              "    }\n",
              "\n",
              "    .dataframe thead th {\n",
              "        text-align: right;\n",
              "    }\n",
              "</style>\n",
              "<table border=\"1\" class=\"dataframe\">\n",
              "  <thead>\n",
              "    <tr style=\"text-align: right;\">\n",
              "      <th></th>\n",
              "      <th>order_id</th>\n",
              "      <th>store_id</th>\n",
              "      <th>to_user_distance</th>\n",
              "      <th>to_user_elevation</th>\n",
              "      <th>total_earning</th>\n",
              "      <th>created_at</th>\n",
              "      <th>taken</th>\n",
              "    </tr>\n",
              "  </thead>\n",
              "  <tbody>\n",
              "    <tr>\n",
              "      <th>16847</th>\n",
              "      <td>14362872</td>\n",
              "      <td>900012381</td>\n",
              "      <td>0.0</td>\n",
              "      <td>0.0</td>\n",
              "      <td>5000</td>\n",
              "      <td>2017-09-07 19:48:10</td>\n",
              "      <td>0</td>\n",
              "    </tr>\n",
              "  </tbody>\n",
              "</table>\n",
              "</div>"
            ],
            "text/plain": [
              "       order_id   store_id  ...          created_at  taken\n",
              "16847  14362872  900012381  ... 2017-09-07 19:48:10      0\n",
              "\n",
              "[1 rows x 7 columns]"
            ]
          },
          "metadata": {
            "tags": []
          }
        },
        {
          "output_type": "display_data",
          "data": {
            "image/png": "[encoded data removed]",
            "text/plain": [
              "<Figure size 432x288 with 1 Axes>"
            ]
          },
          "metadata": {
            "tags": [],
            "needs_background": "light"
          }
        },
        {
          "output_type": "execute_result",
          "data": {
            "text/plain": [
              "<matplotlib.axes._subplots.AxesSubplot at 0x7fd27432c048>"
            ]
          },
          "metadata": {
            "tags": []
          },
          "execution_count": 93
        },
        {
          "output_type": "display_data",
          "data": {
            "image/png": "[encoded data removed]",
            "text/plain": [
              "<Figure size 432x288 with 1 Axes>"
            ]
          },
          "metadata": {
            "tags": [],
            "needs_background": "light"
          }
        }
      ]
    },
    {
      "cell_type": "markdown",
      "metadata": {
        "id": "DJFgmq-ZWr0k"
      },
      "source": [
        "## FEATURE ENGINEERING"
      ]
    },
    {
      "cell_type": "code",
      "metadata": {
        "id": "S1UDmUgvW5Cp",
        "outputId": "22dee538-b341-4132-9fef-7beea4940ac7",
        "colab": {
          "base_uri": "https://localhost:8080/",
          "height": 865
        }
      },
      "source": [
        "from collections import Counter\n",
        "\n",
        "display(df.head())\n",
        "display(df.describe())\n",
        "print(\"Dataset: {}\".format(df.shape))\n",
        "print('Dataset classes %s' % Counter(df.taken))\n",
        "\n",
        "df.total_earning.replace(0,np.nan, inplace=True)\n",
        "df.to_user_distance.replace(0,np.nan, inplace=True)\n",
        "df.dropna(inplace=True)\n",
        "\n",
        "df['month']=df.created_at.dt.month\n",
        "# Monday is 0 and Sunday is 6\n",
        "df['weekday']=df.created_at.dt.weekday\n",
        "df['day']=df.created_at.dt.day\n",
        "df['hour']=df.created_at.dt.hour\n",
        "df['working_time']=(df.created_at - pd.to_timedelta(8,unit='H')).dt.hour*60+df.created_at.dt.minute\n",
        "\n",
        "min_qt=0.01\n",
        "max_qt=0.99\n",
        "\n",
        "# filter extreme values on mayority class\n",
        "df_ready = df[df.taken.eq(0) | \n",
        "        ( df.total_earning.gt(df.total_earning.quantile(min_qt))\n",
        "        & df.total_earning.lt(df.total_earning.quantile(max_qt))\n",
        "        & df.to_user_distance.gt(df.to_user_distance.quantile(min_qt))\n",
        "        & df.to_user_distance.lt(df.to_user_distance.quantile(max_qt))\n",
        "        & df.to_user_elevation.gt(df.to_user_elevation.quantile(min_qt))\n",
        "        & df.to_user_elevation.lt(df.to_user_elevation.quantile(max_qt)))]\n",
        "\n",
        "print(\"\\nFiltered dataset: {}\".format(df_ready.shape))\n",
        "print('Filtered dataset classes %s' % Counter(df_ready.taken))\n",
        "display(df_ready.describe())"
      ],
      "execution_count": 94,
      "outputs": [
        {
          "output_type": "display_data",
          "data": {
            "text/html": [
              "<div>\n",
              "<style scoped>\n",
              "    .dataframe tbody tr th:only-of-type {\n",
              "        vertical-align: middle;\n",
              "    }\n",
              "\n",
              "    .dataframe tbody tr th {\n",
              "        vertical-align: top;\n",
              "    }\n",
              "\n",
              "    .dataframe thead th {\n",
              "        text-align: right;\n",
              "    }\n",
              "</style>\n",
              "<table border=\"1\" class=\"dataframe\">\n",
              "  <thead>\n",
              "    <tr style=\"text-align: right;\">\n",
              "      <th></th>\n",
              "      <th>order_id</th>\n",
              "      <th>store_id</th>\n",
              "      <th>to_user_distance</th>\n",
              "      <th>to_user_elevation</th>\n",
              "      <th>total_earning</th>\n",
              "      <th>created_at</th>\n",
              "      <th>taken</th>\n",
              "    </tr>\n",
              "  </thead>\n",
              "  <tbody>\n",
              "    <tr>\n",
              "      <th>0</th>\n",
              "      <td>14364873</td>\n",
              "      <td>30000009</td>\n",
              "      <td>2.478101</td>\n",
              "      <td>-72.719360</td>\n",
              "      <td>4200</td>\n",
              "      <td>2017-09-07 20:02:17</td>\n",
              "      <td>0</td>\n",
              "    </tr>\n",
              "    <tr>\n",
              "      <th>1</th>\n",
              "      <td>14370123</td>\n",
              "      <td>30000058</td>\n",
              "      <td>0.451711</td>\n",
              "      <td>37.754761</td>\n",
              "      <td>4200</td>\n",
              "      <td>2017-09-07 20:13:16</td>\n",
              "      <td>0</td>\n",
              "    </tr>\n",
              "    <tr>\n",
              "      <th>2</th>\n",
              "      <td>14368534</td>\n",
              "      <td>900003684</td>\n",
              "      <td>2.026072</td>\n",
              "      <td>207.191162</td>\n",
              "      <td>4000</td>\n",
              "      <td>2017-09-07 20:07:23</td>\n",
              "      <td>0</td>\n",
              "    </tr>\n",
              "    <tr>\n",
              "      <th>3</th>\n",
              "      <td>14370258</td>\n",
              "      <td>900014452</td>\n",
              "      <td>2.671432</td>\n",
              "      <td>1.722656</td>\n",
              "      <td>4400</td>\n",
              "      <td>2017-09-07 20:15:19</td>\n",
              "      <td>1</td>\n",
              "    </tr>\n",
              "    <tr>\n",
              "      <th>4</th>\n",
              "      <td>14369923</td>\n",
              "      <td>900014085</td>\n",
              "      <td>0.965496</td>\n",
              "      <td>117.429199</td>\n",
              "      <td>3450</td>\n",
              "      <td>2017-09-07 20:12:14</td>\n",
              "      <td>1</td>\n",
              "    </tr>\n",
              "  </tbody>\n",
              "</table>\n",
              "</div>"
            ],
            "text/plain": [
              "   order_id   store_id  ...          created_at  taken\n",
              "0  14364873   30000009  ... 2017-09-07 20:02:17      0\n",
              "1  14370123   30000058  ... 2017-09-07 20:13:16      0\n",
              "2  14368534  900003684  ... 2017-09-07 20:07:23      0\n",
              "3  14370258  900014452  ... 2017-09-07 20:15:19      1\n",
              "4  14369923  900014085  ... 2017-09-07 20:12:14      1\n",
              "\n",
              "[5 rows x 7 columns]"
            ]
          },
          "metadata": {
            "tags": []
          }
        },
        {
          "output_type": "display_data",
          "data": {
            "text/html": [
              "<div>\n",
              "<style scoped>\n",
              "    .dataframe tbody tr th:only-of-type {\n",
              "        vertical-align: middle;\n",
              "    }\n",
              "\n",
              "    .dataframe tbody tr th {\n",
              "        vertical-align: top;\n",
              "    }\n",
              "\n",
              "    .dataframe thead th {\n",
              "        text-align: right;\n",
              "    }\n",
              "</style>\n",
              "<table border=\"1\" class=\"dataframe\">\n",
              "  <thead>\n",
              "    <tr style=\"text-align: right;\">\n",
              "      <th></th>\n",
              "      <th>order_id</th>\n",
              "      <th>store_id</th>\n",
              "      <th>to_user_distance</th>\n",
              "      <th>to_user_elevation</th>\n",
              "      <th>total_earning</th>\n",
              "      <th>taken</th>\n",
              "    </tr>\n",
              "  </thead>\n",
              "  <tbody>\n",
              "    <tr>\n",
              "      <th>count</th>\n",
              "      <td>1.469870e+05</td>\n",
              "      <td>1.469870e+05</td>\n",
              "      <td>146987.000000</td>\n",
              "      <td>146987.000000</td>\n",
              "      <td>146987.000000</td>\n",
              "      <td>146987.000000</td>\n",
              "    </tr>\n",
              "    <tr>\n",
              "      <th>mean</th>\n",
              "      <td>1.507718e+07</td>\n",
              "      <td>7.580708e+08</td>\n",
              "      <td>1.501015</td>\n",
              "      <td>26.899130</td>\n",
              "      <td>5358.641594</td>\n",
              "      <td>0.921218</td>\n",
              "    </tr>\n",
              "    <tr>\n",
              "      <th>std</th>\n",
              "      <td>4.750119e+05</td>\n",
              "      <td>3.214280e+08</td>\n",
              "      <td>0.845776</td>\n",
              "      <td>84.907724</td>\n",
              "      <td>1779.800955</td>\n",
              "      <td>0.269400</td>\n",
              "    </tr>\n",
              "    <tr>\n",
              "      <th>min</th>\n",
              "      <td>1.421073e+07</td>\n",
              "      <td>3.000000e+07</td>\n",
              "      <td>0.000000</td>\n",
              "      <td>-598.296875</td>\n",
              "      <td>0.000000</td>\n",
              "      <td>0.000000</td>\n",
              "    </tr>\n",
              "    <tr>\n",
              "      <th>25%</th>\n",
              "      <td>1.466969e+07</td>\n",
              "      <td>9.000045e+08</td>\n",
              "      <td>0.836511</td>\n",
              "      <td>-18.348755</td>\n",
              "      <td>4200.000000</td>\n",
              "      <td>1.000000</td>\n",
              "    </tr>\n",
              "    <tr>\n",
              "      <th>50%</th>\n",
              "      <td>1.509241e+07</td>\n",
              "      <td>9.000077e+08</td>\n",
              "      <td>1.390230</td>\n",
              "      <td>11.145264</td>\n",
              "      <td>5200.000000</td>\n",
              "      <td>1.000000</td>\n",
              "    </tr>\n",
              "    <tr>\n",
              "      <th>75%</th>\n",
              "      <td>1.547355e+07</td>\n",
              "      <td>9.000127e+08</td>\n",
              "      <td>2.029955</td>\n",
              "      <td>61.024353</td>\n",
              "      <td>6300.000000</td>\n",
              "      <td>1.000000</td>\n",
              "    </tr>\n",
              "    <tr>\n",
              "      <th>max</th>\n",
              "      <td>1.590252e+07</td>\n",
              "      <td>9.000173e+08</td>\n",
              "      <td>9.360177</td>\n",
              "      <td>1009.380005</td>\n",
              "      <td>108200.000000</td>\n",
              "      <td>1.000000</td>\n",
              "    </tr>\n",
              "  </tbody>\n",
              "</table>\n",
              "</div>"
            ],
            "text/plain": [
              "           order_id      store_id  ...  total_earning          taken\n",
              "count  1.469870e+05  1.469870e+05  ...  146987.000000  146987.000000\n",
              "mean   1.507718e+07  7.580708e+08  ...    5358.641594       0.921218\n",
              "std    4.750119e+05  3.214280e+08  ...    1779.800955       0.269400\n",
              "min    1.421073e+07  3.000000e+07  ...       0.000000       0.000000\n",
              "25%    1.466969e+07  9.000045e+08  ...    4200.000000       1.000000\n",
              "50%    1.509241e+07  9.000077e+08  ...    5200.000000       1.000000\n",
              "75%    1.547355e+07  9.000127e+08  ...    6300.000000       1.000000\n",
              "max    1.590252e+07  9.000173e+08  ...  108200.000000       1.000000\n",
              "\n",
              "[8 rows x 6 columns]"
            ]
          },
          "metadata": {
            "tags": []
          }
        },
        {
          "output_type": "stream",
          "text": [
            "Dataset: (146987, 7)\n",
            "Dataset classes Counter({1: 135407, 0: 11580})\n",
            "\n",
            "Filtered dataset: (124319, 12)\n",
            "Filtered dataset classes Counter({1: 112740, 0: 11579})\n"
          ],
          "name": "stdout"
        },
        {
          "output_type": "display_data",
          "data": {
            "text/html": [
              "<div>\n",
              "<style scoped>\n",
              "    .dataframe tbody tr th:only-of-type {\n",
              "        vertical-align: middle;\n",
              "    }\n",
              "\n",
              "    .dataframe tbody tr th {\n",
              "        vertical-align: top;\n",
              "    }\n",
              "\n",
              "    .dataframe thead th {\n",
              "        text-align: right;\n",
              "    }\n",
              "</style>\n",
              "<table border=\"1\" class=\"dataframe\">\n",
              "  <thead>\n",
              "    <tr style=\"text-align: right;\">\n",
              "      <th></th>\n",
              "      <th>order_id</th>\n",
              "      <th>store_id</th>\n",
              "      <th>to_user_distance</th>\n",
              "      <th>to_user_elevation</th>\n",
              "      <th>total_earning</th>\n",
              "      <th>taken</th>\n",
              "      <th>month</th>\n",
              "      <th>weekday</th>\n",
              "      <th>day</th>\n",
              "      <th>hour</th>\n",
              "      <th>working_time</th>\n",
              "    </tr>\n",
              "  </thead>\n",
              "  <tbody>\n",
              "    <tr>\n",
              "      <th>count</th>\n",
              "      <td>1.243190e+05</td>\n",
              "      <td>1.243190e+05</td>\n",
              "      <td>124319.000000</td>\n",
              "      <td>124319.000000</td>\n",
              "      <td>124319.000000</td>\n",
              "      <td>124319.000000</td>\n",
              "      <td>124319.000000</td>\n",
              "      <td>124319.000000</td>\n",
              "      <td>124319.000000</td>\n",
              "      <td>124319.000000</td>\n",
              "      <td>124319.000000</td>\n",
              "    </tr>\n",
              "    <tr>\n",
              "      <th>mean</th>\n",
              "      <td>1.508311e+07</td>\n",
              "      <td>7.567285e+08</td>\n",
              "      <td>1.509773</td>\n",
              "      <td>28.066403</td>\n",
              "      <td>5534.771547</td>\n",
              "      <td>0.906861</td>\n",
              "      <td>9.125146</td>\n",
              "      <td>3.465818</td>\n",
              "      <td>16.078492</td>\n",
              "      <td>15.793596</td>\n",
              "      <td>520.145601</td>\n",
              "    </tr>\n",
              "    <tr>\n",
              "      <th>std</th>\n",
              "      <td>4.666928e+05</td>\n",
              "      <td>3.226443e+08</td>\n",
              "      <td>0.811871</td>\n",
              "      <td>79.951231</td>\n",
              "      <td>1495.221234</td>\n",
              "      <td>0.290629</td>\n",
              "      <td>0.330885</td>\n",
              "      <td>2.050404</td>\n",
              "      <td>8.653288</td>\n",
              "      <td>3.842291</td>\n",
              "      <td>229.469178</td>\n",
              "    </tr>\n",
              "    <tr>\n",
              "      <th>min</th>\n",
              "      <td>1.421073e+07</td>\n",
              "      <td>3.000000e+07</td>\n",
              "      <td>0.002456</td>\n",
              "      <td>-580.946167</td>\n",
              "      <td>200.000000</td>\n",
              "      <td>0.000000</td>\n",
              "      <td>9.000000</td>\n",
              "      <td>0.000000</td>\n",
              "      <td>1.000000</td>\n",
              "      <td>0.000000</td>\n",
              "      <td>0.000000</td>\n",
              "    </tr>\n",
              "    <tr>\n",
              "      <th>25%</th>\n",
              "      <td>1.469325e+07</td>\n",
              "      <td>9.000044e+08</td>\n",
              "      <td>0.861827</td>\n",
              "      <td>-18.210205</td>\n",
              "      <td>4200.000000</td>\n",
              "      <td>1.000000</td>\n",
              "      <td>9.000000</td>\n",
              "      <td>2.000000</td>\n",
              "      <td>9.000000</td>\n",
              "      <td>13.000000</td>\n",
              "      <td>321.000000</td>\n",
              "    </tr>\n",
              "    <tr>\n",
              "      <th>50%</th>\n",
              "      <td>1.509618e+07</td>\n",
              "      <td>9.000077e+08</td>\n",
              "      <td>1.409627</td>\n",
              "      <td>12.732910</td>\n",
              "      <td>5200.000000</td>\n",
              "      <td>1.000000</td>\n",
              "      <td>9.000000</td>\n",
              "      <td>4.000000</td>\n",
              "      <td>17.000000</td>\n",
              "      <td>16.000000</td>\n",
              "      <td>526.000000</td>\n",
              "    </tr>\n",
              "    <tr>\n",
              "      <th>75%</th>\n",
              "      <td>1.546020e+07</td>\n",
              "      <td>9.000127e+08</td>\n",
              "      <td>2.041413</td>\n",
              "      <td>63.927917</td>\n",
              "      <td>6500.000000</td>\n",
              "      <td>1.000000</td>\n",
              "      <td>9.000000</td>\n",
              "      <td>5.000000</td>\n",
              "      <td>24.000000</td>\n",
              "      <td>19.000000</td>\n",
              "      <td>699.000000</td>\n",
              "    </tr>\n",
              "    <tr>\n",
              "      <th>max</th>\n",
              "      <td>1.590252e+07</td>\n",
              "      <td>9.000173e+08</td>\n",
              "      <td>4.755271</td>\n",
              "      <td>533.242798</td>\n",
              "      <td>24700.000000</td>\n",
              "      <td>1.000000</td>\n",
              "      <td>10.000000</td>\n",
              "      <td>6.000000</td>\n",
              "      <td>30.000000</td>\n",
              "      <td>23.000000</td>\n",
              "      <td>1439.000000</td>\n",
              "    </tr>\n",
              "  </tbody>\n",
              "</table>\n",
              "</div>"
            ],
            "text/plain": [
              "           order_id      store_id  ...           hour   working_time\n",
              "count  1.243190e+05  1.243190e+05  ...  124319.000000  124319.000000\n",
              "mean   1.508311e+07  7.567285e+08  ...      15.793596     520.145601\n",
              "std    4.666928e+05  3.226443e+08  ...       3.842291     229.469178\n",
              "min    1.421073e+07  3.000000e+07  ...       0.000000       0.000000\n",
              "25%    1.469325e+07  9.000044e+08  ...      13.000000     321.000000\n",
              "50%    1.509618e+07  9.000077e+08  ...      16.000000     526.000000\n",
              "75%    1.546020e+07  9.000127e+08  ...      19.000000     699.000000\n",
              "max    1.590252e+07  9.000173e+08  ...      23.000000    1439.000000\n",
              "\n",
              "[8 rows x 11 columns]"
            ]
          },
          "metadata": {
            "tags": []
          }
        }
      ]
    },
    {
      "cell_type": "markdown",
      "metadata": {
        "id": "TL4boGTQ-gkH"
      },
      "source": [
        "# TRAINING"
      ]
    },
    {
      "cell_type": "code",
      "metadata": {
        "id": "f2vyNphI-pLG",
        "outputId": "1febce0d-4524-4c2f-98cd-9d306dd5e2d2",
        "colab": {
          "base_uri": "https://localhost:8080/",
          "height": 256
        }
      },
      "source": [
        "features = ['to_user_distance','to_user_elevation','total_earning','weekday','working_time']\n",
        "target = ['taken']\n",
        "\n",
        "X = df_ready[features].values\n",
        "y = df_ready[target].values.ravel()\n",
        "\n",
        "display(X[:5],X.shape)\n",
        "display(y[:5],y.shape)"
      ],
      "execution_count": 95,
      "outputs": [
        {
          "output_type": "display_data",
          "data": {
            "text/plain": [
              "array([[ 2.47810068e+00, -7.27193604e+01,  4.20000000e+03,\n",
              "         3.00000000e+00,  7.22000000e+02],\n",
              "       [ 4.51710600e-01,  3.77547607e+01,  4.20000000e+03,\n",
              "         3.00000000e+00,  7.33000000e+02],\n",
              "       [ 2.02607186e+00,  2.07191162e+02,  4.00000000e+03,\n",
              "         3.00000000e+00,  7.27000000e+02],\n",
              "       [ 2.67143172e+00,  1.72265625e+00,  4.40000000e+03,\n",
              "         3.00000000e+00,  7.35000000e+02],\n",
              "       [ 9.65496042e-01,  1.17429199e+02,  3.45000000e+03,\n",
              "         3.00000000e+00,  7.32000000e+02]])"
            ]
          },
          "metadata": {
            "tags": []
          }
        },
        {
          "output_type": "display_data",
          "data": {
            "text/plain": [
              "(124319, 5)"
            ]
          },
          "metadata": {
            "tags": []
          }
        },
        {
          "output_type": "display_data",
          "data": {
            "text/plain": [
              "array([0, 0, 0, 1, 1], dtype=int64)"
            ]
          },
          "metadata": {
            "tags": []
          }
        },
        {
          "output_type": "display_data",
          "data": {
            "text/plain": [
              "(124319,)"
            ]
          },
          "metadata": {
            "tags": []
          }
        }
      ]
    },
    {
      "cell_type": "markdown",
      "metadata": {
        "id": "Mv_g590iBZGI"
      },
      "source": [
        "## PREPARE TRAIN AND TEST DATA"
      ]
    },
    {
      "cell_type": "code",
      "metadata": {
        "id": "p7EV71a9Bl6X",
        "outputId": "49d16d5b-4ac8-49a2-a1ab-aa7b95f6a425",
        "colab": {
          "base_uri": "https://localhost:8080/",
          "height": 90
        }
      },
      "source": [
        "from sklearn.model_selection import train_test_split\n",
        "\n",
        "X_train, X_test, y_train, y_test = train_test_split(X, y, test_size=0.3, random_state=21, stratify=y)\n",
        "\n",
        "print(\"Training set X: {}  y: {}\".format(X_train.shape,y_train.shape))\n",
        "print(\"Test set X: {}  y: {}\".format(X_test.shape,y_test.shape))\n",
        "\n",
        "print('Training dataset shape %s' % Counter(y_train))\n",
        "print('Test dataset shape %s' % Counter(y_test))"
      ],
      "execution_count": 96,
      "outputs": [
        {
          "output_type": "stream",
          "text": [
            "Training set X: (87023, 5)  y: (87023,)\n",
            "Test set X: (37296, 5)  y: (37296,)\n",
            "Training dataset shape Counter({1: 78918, 0: 8105})\n",
            "Test dataset shape Counter({1: 33822, 0: 3474})\n"
          ],
          "name": "stdout"
        }
      ]
    },
    {
      "cell_type": "markdown",
      "metadata": {
        "id": "2ohWyhXARI-E"
      },
      "source": [
        "### RESAMPLING"
      ]
    },
    {
      "cell_type": "code",
      "metadata": {
        "id": "_rxiITfN8nQH",
        "outputId": "0e28b9af-752d-4d08-cafa-0e94c9029647",
        "colab": {
          "base_uri": "https://localhost:8080/",
          "height": 147
        }
      },
      "source": [
        "from imblearn.combine import SMOTEENN # Combine over- and under-sampling using SMOTE and Edited Nearest Neighbours.\n",
        "from imblearn.over_sampling import SMOTE # Class to perform over-sampling using SMOTE.\n",
        "from imblearn.under_sampling import RandomUnderSampler # Under-sample the majority class(es) by randomly picking samples with or without replacement.\n",
        "from imblearn.pipeline import Pipeline\n",
        "\n",
        "\n",
        "#sme = SMOTEENN(random_state=42)\n",
        "# define pipeline\n",
        "over = SMOTE(sampling_strategy=0.4)\n",
        "under = RandomUnderSampler(sampling_strategy=0.8)\n",
        "steps = [('o', over), ('u', under)]\n",
        "pipeline = Pipeline(steps=steps)\n",
        "\n",
        "# transform the dataset\n",
        "X_res, y_res = pipeline.fit_resample(X_train, y_train)\n",
        "\n",
        "print('Trained dataset shape %s' % Counter(y_train))\n",
        "print('Resampled dataset shape %s' % Counter(y_res))\n",
        "\n",
        "X_train = X_res\n",
        "y_train = y_res"
      ],
      "execution_count": 97,
      "outputs": [
        {
          "output_type": "stream",
          "text": [
            "/usr/local/lib/python3.6/dist-packages/sklearn/utils/deprecation.py:87: FutureWarning: Function safe_indexing is deprecated; safe_indexing is deprecated in version 0.22 and will be removed in version 0.24.\n",
            "  warnings.warn(msg, category=FutureWarning)\n"
          ],
          "name": "stderr"
        },
        {
          "output_type": "stream",
          "text": [
            "Trained dataset shape Counter({1: 78918, 0: 8105})\n",
            "Resampled dataset shape Counter({1: 39458, 0: 31567})\n"
          ],
          "name": "stdout"
        },
        {
          "output_type": "stream",
          "text": [
            "/usr/local/lib/python3.6/dist-packages/sklearn/utils/deprecation.py:87: FutureWarning: Function safe_indexing is deprecated; safe_indexing is deprecated in version 0.22 and will be removed in version 0.24.\n",
            "  warnings.warn(msg, category=FutureWarning)\n"
          ],
          "name": "stderr"
        }
      ]
    },
    {
      "cell_type": "code",
      "metadata": {
        "id": "DYDod6AWG4Ii",
        "outputId": "984fc294-bd26-43d2-88ce-3b2a9160d351",
        "colab": {
          "base_uri": "https://localhost:8080/",
          "height": 146
        }
      },
      "source": [
        "from sklearn.preprocessing import StandardScaler\n",
        "#\n",
        "from sklearn.pipeline import Pipeline\n",
        "#\n",
        "from sklearn.neighbors import KNeighborsClassifier\n",
        "from sklearn.ensemble import RandomForestClassifier\n",
        "import xgboost as xgb\n",
        "\n",
        "#classifier = KNeighborsClassifier(n_neighbors=3)\n",
        "classifier = RandomForestClassifier(n_jobs=-1)\n",
        "#classifier = xgb.XGBClassifier(objective='binary:logistic', n_estimators=10, seed=123)\n",
        "\n",
        "steps = [('scaler', StandardScaler()),\n",
        "         ('clf', classifier)]\n",
        "\n",
        "pipeline = Pipeline(steps)\n",
        "\n",
        "# parameters = {'clf__n_neighbors': (3,5,10)}\n",
        "parameters = {\n",
        "'clf__criterion': ['entropy'],\n",
        "'clf__max_depth': [200, 250],\n",
        "'clf__max_features': [2],\n",
        "'clf__min_samples_leaf': [2],\n",
        "'clf__min_samples_split': [4],\n",
        "'clf__n_estimators': [300, 400],\n",
        "'clf__class_weight': ['balanced_subsample']\n",
        "}\n",
        "\n",
        "display(parameters)\n"
      ],
      "execution_count": 98,
      "outputs": [
        {
          "output_type": "display_data",
          "data": {
            "text/plain": [
              "{'clf__class_weight': ['balanced_subsample'],\n",
              " 'clf__criterion': ['entropy'],\n",
              " 'clf__max_depth': [200, 250],\n",
              " 'clf__max_features': [2],\n",
              " 'clf__min_samples_leaf': [2],\n",
              " 'clf__min_samples_split': [4],\n",
              " 'clf__n_estimators': [300, 400]}"
            ]
          },
          "metadata": {
            "tags": []
          }
        }
      ]
    },
    {
      "cell_type": "markdown",
      "metadata": {
        "id": "bpQpqM-4buiG"
      },
      "source": [
        "## CROSS VALIDATION"
      ]
    },
    {
      "cell_type": "code",
      "metadata": {
        "id": "zx5eb6fEap18",
        "outputId": "2c0dea26-dbcb-4dd5-fe73-b20f4779a960",
        "colab": {
          "base_uri": "https://localhost:8080/",
          "height": 678
        }
      },
      "source": [
        "from sklearn.model_selection import GridSearchCV\n",
        "from pprint import pprint\n",
        "from time import time\n",
        "\n",
        "grid_search = GridSearchCV(pipeline, parameters, n_jobs=-1, verbose=1, scoring='balanced_accuracy')\n",
        "\n",
        "print(\"Performing grid search...\")\n",
        "print(\"pipeline:\", [name for name, _ in pipeline.steps])\n",
        "t0 = time()\n",
        "grid_search.fit(X_train, y_train)\n",
        "print(\"Done in %0.3fs\" % (time() - t0))\n",
        "print()\n",
        "print(\"Best score: %0.3f\" % grid_search.best_score_)\n",
        "print(\"Best parameters set:\")\n",
        "best_parameters = grid_search.best_estimator_.get_params()\n",
        "for param_name in sorted(parameters.keys()):\n",
        "  print(\"\\t%s: %r\" % (param_name, best_parameters[param_name]))\n",
        "\n",
        "model=grid_search.best_estimator_\n",
        "\n",
        "print(\"\\nBEST MODEL :\")\n",
        "display(model)\n",
        "\n",
        "print(\"BEST SCORE : {}\".format(grid_search.best_score_))"
      ],
      "execution_count": 99,
      "outputs": [
        {
          "output_type": "stream",
          "text": [
            "Performing grid search...\n",
            "pipeline: ['scaler', 'clf']\n",
            "Fitting 5 folds for each of 4 candidates, totalling 20 fits\n"
          ],
          "name": "stdout"
        },
        {
          "output_type": "stream",
          "text": [
            "[Parallel(n_jobs=-1)]: Using backend LokyBackend with 2 concurrent workers.\n",
            "[Parallel(n_jobs=-1)]: Done  20 out of  20 | elapsed: 22.2min finished\n"
          ],
          "name": "stderr"
        },
        {
          "output_type": "stream",
          "text": [
            "Done in 1399.910s\n",
            "\n",
            "Best score: 0.883\n",
            "Best parameters set:\n",
            "\tclf__class_weight: 'balanced_subsample'\n",
            "\tclf__criterion: 'entropy'\n",
            "\tclf__max_depth: 250\n",
            "\tclf__max_features: 2\n",
            "\tclf__min_samples_leaf: 2\n",
            "\tclf__min_samples_split: 4\n",
            "\tclf__n_estimators: 300\n",
            "\n",
            "BEST MODEL :\n"
          ],
          "name": "stdout"
        },
        {
          "output_type": "display_data",
          "data": {
            "text/plain": [
              "Pipeline(memory=None,\n",
              "         steps=[('scaler',\n",
              "                 StandardScaler(copy=True, with_mean=True, with_std=True)),\n",
              "                ('clf',\n",
              "                 RandomForestClassifier(bootstrap=True, ccp_alpha=0.0,\n",
              "                                        class_weight='balanced_subsample',\n",
              "                                        criterion='entropy', max_depth=250,\n",
              "                                        max_features=2, max_leaf_nodes=None,\n",
              "                                        max_samples=None,\n",
              "                                        min_impurity_decrease=0.0,\n",
              "                                        min_impurity_split=None,\n",
              "                                        min_samples_leaf=2, min_samples_split=4,\n",
              "                                        min_weight_fraction_leaf=0.0,\n",
              "                                        n_estimators=300, n_jobs=-1,\n",
              "                                        oob_score=False, random_state=None,\n",
              "                                        verbose=0, warm_start=False))],\n",
              "         verbose=False)"
            ]
          },
          "metadata": {
            "tags": []
          }
        },
        {
          "output_type": "stream",
          "text": [
            "BEST SCORE : 0.8826112675737479\n"
          ],
          "name": "stdout"
        }
      ]
    },
    {
      "cell_type": "markdown",
      "metadata": {
        "id": "fnCXAgMUb8Ip"
      },
      "source": [
        "## TEST MODEL"
      ]
    },
    {
      "cell_type": "code",
      "metadata": {
        "id": "9Fck2oB_cDXW",
        "outputId": "5c0053e2-9b38-479a-dbf8-e0144afe57a0",
        "colab": {
          "base_uri": "https://localhost:8080/",
          "height": 589
        }
      },
      "source": [
        "from sklearn.metrics import confusion_matrix\n",
        "from sklearn.metrics import classification_report\n",
        "from sklearn.metrics import precision_recall_curve\n",
        "from sklearn.metrics import roc_auc_score\n",
        "from sklearn.metrics import plot_roc_curve\n",
        "\n",
        "from sklearn.metrics import recall_score\n",
        "from sklearn.metrics import f1_score\n",
        "from sklearn.metrics import balanced_accuracy_score\n",
        "from sklearn.metrics import accuracy_score\n",
        "\n",
        "y_pred = model.predict(X_test)\n",
        "y_score = model.predict_proba(X_test)\n",
        "\n",
        "display(\"confusion matrix:\")\n",
        "print(confusion_matrix(y_test, y_pred))\n",
        "print(classification_report(y_test, y_pred))\n",
        "print(\"Recall score: %0.2f\" % recall_score(y_test, y_pred, average='weighted'))\n",
        "print(\"F1 score: %0.2f\" % f1_score(y_test, y_pred, average='weighted'))\n",
        "#The balanced accuracy in binary and multiclass classification problems to deal with imbalanced datasets. It is defined as the average of recall obtained on each class.\n",
        "print(\"Balanced accuracy score: %0.2f\" % balanced_accuracy_score(y_test, y_pred))\n",
        "print(\"Accuracy: %0.2f\" % accuracy_score(y_test, y_pred))\n",
        "#print(\"ROC_AUC: %0.2f\" % roc_auc_score(y_test, y_pred))\n",
        "\n",
        "fig, ax = plt.subplots()\n",
        "viz = plot_roc_curve(model, X_test, y_test,name='ROC',alpha=0.5, lw=1, ax=ax)\n",
        "ax.set(xlim=[-0.05, 1.05], ylim=[-0.05, 1.05],\n",
        "       title=\"Receiver operating characteristic for best model\")\n",
        "ax.legend(loc=\"lower right\")\n",
        "plt.show()"
      ],
      "execution_count": 100,
      "outputs": [
        {
          "output_type": "display_data",
          "data": {
            "application/vnd.google.colaboratory.intrinsic+json": {
              "type": "string"
            },
            "text/plain": [
              "'confusion matrix:'"
            ]
          },
          "metadata": {
            "tags": []
          }
        },
        {
          "output_type": "stream",
          "text": [
            "[[ 1362  2112]\n",
            " [ 1200 32622]]\n",
            "              precision    recall  f1-score   support\n",
            "\n",
            "           0       0.53      0.39      0.45      3474\n",
            "           1       0.94      0.96      0.95     33822\n",
            "\n",
            "    accuracy                           0.91     37296\n",
            "   macro avg       0.74      0.68      0.70     37296\n",
            "weighted avg       0.90      0.91      0.91     37296\n",
            "\n",
            "Recall score: 0.91\n",
            "F1 score: 0.91\n",
            "Balanced accuracy score: 0.68\n",
            "Accuracy: 0.91\n"
          ],
          "name": "stdout"
        },
        {
          "output_type": "display_data",
          "data": {
            "image/png": "[encoded data removed]",
            "text/plain": [
              "<Figure size 432x288 with 1 Axes>"
            ]
          },
          "metadata": {
            "tags": [],
            "needs_background": "light"
          }
        }
      ]
    },
    {
      "cell_type": "markdown",
      "metadata": {
        "id": "QNHStJnwgdTm"
      },
      "source": [
        "# SAVE MODEL"
      ]
    },
    {
      "cell_type": "code",
      "metadata": {
        "id": "dOmDZdQigckv",
        "outputId": "5a261f1a-4011-473f-de1e-be8878ce04e9",
        "colab": {
          "base_uri": "https://localhost:8080/",
          "height": 35
        }
      },
      "source": [
        "import joblib\n",
        "\n",
        "filename='model.joblib'\n",
        "\n",
        "joblib.dump(model, filename)"
      ],
      "execution_count": 101,
      "outputs": [
        {
          "output_type": "execute_result",
          "data": {
            "text/plain": [
              "['model.joblib']"
            ]
          },
          "metadata": {
            "tags": []
          },
          "execution_count": 101
        }
      ]
    }
  ]
}