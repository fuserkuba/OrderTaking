{
  "nbformat": 4,
  "nbformat_minor": 0,
  "metadata": {
    "colab": {
      "name": "TakeOrderTraining.ipynb",
      "provenance": [],
      "collapsed_sections": [],
      "toc_visible": true,
      "authorship_tag": "ABX9TyNh5ydSaKOs+AcGXDsuri/k",
      "include_colab_link": true
    },
    "kernelspec": {
      "name": "python3",
      "display_name": "Python 3"
    }
  },
  "cells": [
    {
      "cell_type": "markdown",
      "metadata": {
        "id": "view-in-github",
        "colab_type": "text"
      },
      "source": [
        "<a href=\"https://colab.research.google.com/github/fuserkuba/OrderTaking/blob/master/training/TakeOrderTraining.ipynb\" target=\"_parent\"><img src=\"https://colab.research.google.com/assets/colab-badge.svg\" alt=\"Open In Colab\"/></a>"
      ]
    },
    {
      "cell_type": "markdown",
      "metadata": {
        "id": "uy0sHNVZIren"
      },
      "source": [
        "LOADING DATA"
      ]
    },
    {
      "cell_type": "code",
      "metadata": {
        "id": "-B2RLkMD9VG8",
        "outputId": "d296521e-4409-4850-8e17-2d20ee83a8af",
        "colab": {
          "base_uri": "https://localhost:8080/",
          "height": 311
        }
      },
      "source": [
        "import pandas as pd\n",
        "import numpy as np\n",
        "import requests\n",
        "\n",
        "\n",
        "filename = \"https://raw.githubusercontent.com/fuserkuba/OrderTaking/master/training/orders.csv\"\n",
        "\n",
        "df = pd.read_csv(filename, na_values=[\"\"])\n",
        "\n",
        "print(\"{} rows loaded! \\n\".format(df.shape[0]))\n",
        "\n",
        "df.info()"
      ],
      "execution_count": 2,
      "outputs": [
        {
          "output_type": "stream",
          "text": [
            "146987 rows loaded! \n",
            "\n",
            "<class 'pandas.core.frame.DataFrame'>\n",
            "RangeIndex: 146987 entries, 0 to 146986\n",
            "Data columns (total 7 columns):\n",
            " #   Column             Non-Null Count   Dtype  \n",
            "---  ------             --------------   -----  \n",
            " 0   order_id           146987 non-null  int64  \n",
            " 1   store_id           146987 non-null  int64  \n",
            " 2   to_user_distance   146987 non-null  float64\n",
            " 3   to_user_elevation  146987 non-null  float64\n",
            " 4   total_earning      146987 non-null  int64  \n",
            " 5   created_at         146987 non-null  object \n",
            " 6   taken              146987 non-null  int64  \n",
            "dtypes: float64(2), int64(4), object(1)\n",
            "memory usage: 7.9+ MB\n"
          ],
          "name": "stdout"
        }
      ]
    },
    {
      "cell_type": "markdown",
      "metadata": {
        "id": "GAd5yCpILzHK"
      },
      "source": [
        "# EXPLORATORY DATA ANALYSIS"
      ]
    },
    {
      "cell_type": "code",
      "metadata": {
        "id": "GFkIhq3wIwH1",
        "outputId": "03707bd5-b07d-4f5d-9392-00778b0cb42a",
        "colab": {
          "base_uri": "https://localhost:8080/",
          "height": 490
        }
      },
      "source": [
        "display(df.head())\n",
        "\n",
        "display(df.describe())"
      ],
      "execution_count": 3,
      "outputs": [
        {
          "output_type": "display_data",
          "data": {
            "text/html": [
              "<div>\n",
              "<style scoped>\n",
              "    .dataframe tbody tr th:only-of-type {\n",
              "        vertical-align: middle;\n",
              "    }\n",
              "\n",
              "    .dataframe tbody tr th {\n",
              "        vertical-align: top;\n",
              "    }\n",
              "\n",
              "    .dataframe thead th {\n",
              "        text-align: right;\n",
              "    }\n",
              "</style>\n",
              "<table border=\"1\" class=\"dataframe\">\n",
              "  <thead>\n",
              "    <tr style=\"text-align: right;\">\n",
              "      <th></th>\n",
              "      <th>order_id</th>\n",
              "      <th>store_id</th>\n",
              "      <th>to_user_distance</th>\n",
              "      <th>to_user_elevation</th>\n",
              "      <th>total_earning</th>\n",
              "      <th>created_at</th>\n",
              "      <th>taken</th>\n",
              "    </tr>\n",
              "  </thead>\n",
              "  <tbody>\n",
              "    <tr>\n",
              "      <th>0</th>\n",
              "      <td>14364873</td>\n",
              "      <td>30000009</td>\n",
              "      <td>2.478101</td>\n",
              "      <td>-72.719360</td>\n",
              "      <td>4200</td>\n",
              "      <td>2017-09-07T20:02:17Z</td>\n",
              "      <td>0</td>\n",
              "    </tr>\n",
              "    <tr>\n",
              "      <th>1</th>\n",
              "      <td>14370123</td>\n",
              "      <td>30000058</td>\n",
              "      <td>0.451711</td>\n",
              "      <td>37.754761</td>\n",
              "      <td>4200</td>\n",
              "      <td>2017-09-07T20:13:16Z</td>\n",
              "      <td>0</td>\n",
              "    </tr>\n",
              "    <tr>\n",
              "      <th>2</th>\n",
              "      <td>14368534</td>\n",
              "      <td>900003684</td>\n",
              "      <td>2.026072</td>\n",
              "      <td>207.191162</td>\n",
              "      <td>4000</td>\n",
              "      <td>2017-09-07T20:07:23Z</td>\n",
              "      <td>0</td>\n",
              "    </tr>\n",
              "    <tr>\n",
              "      <th>3</th>\n",
              "      <td>14370258</td>\n",
              "      <td>900014452</td>\n",
              "      <td>2.671432</td>\n",
              "      <td>1.722656</td>\n",
              "      <td>4400</td>\n",
              "      <td>2017-09-07T20:15:19Z</td>\n",
              "      <td>1</td>\n",
              "    </tr>\n",
              "    <tr>\n",
              "      <th>4</th>\n",
              "      <td>14369923</td>\n",
              "      <td>900014085</td>\n",
              "      <td>0.965496</td>\n",
              "      <td>117.429199</td>\n",
              "      <td>3450</td>\n",
              "      <td>2017-09-07T20:12:14Z</td>\n",
              "      <td>1</td>\n",
              "    </tr>\n",
              "  </tbody>\n",
              "</table>\n",
              "</div>"
            ],
            "text/plain": [
              "   order_id   store_id  ...            created_at  taken\n",
              "0  14364873   30000009  ...  2017-09-07T20:02:17Z      0\n",
              "1  14370123   30000058  ...  2017-09-07T20:13:16Z      0\n",
              "2  14368534  900003684  ...  2017-09-07T20:07:23Z      0\n",
              "3  14370258  900014452  ...  2017-09-07T20:15:19Z      1\n",
              "4  14369923  900014085  ...  2017-09-07T20:12:14Z      1\n",
              "\n",
              "[5 rows x 7 columns]"
            ]
          },
          "metadata": {
            "tags": []
          }
        },
        {
          "output_type": "display_data",
          "data": {
            "text/html": [
              "<div>\n",
              "<style scoped>\n",
              "    .dataframe tbody tr th:only-of-type {\n",
              "        vertical-align: middle;\n",
              "    }\n",
              "\n",
              "    .dataframe tbody tr th {\n",
              "        vertical-align: top;\n",
              "    }\n",
              "\n",
              "    .dataframe thead th {\n",
              "        text-align: right;\n",
              "    }\n",
              "</style>\n",
              "<table border=\"1\" class=\"dataframe\">\n",
              "  <thead>\n",
              "    <tr style=\"text-align: right;\">\n",
              "      <th></th>\n",
              "      <th>order_id</th>\n",
              "      <th>store_id</th>\n",
              "      <th>to_user_distance</th>\n",
              "      <th>to_user_elevation</th>\n",
              "      <th>total_earning</th>\n",
              "      <th>taken</th>\n",
              "    </tr>\n",
              "  </thead>\n",
              "  <tbody>\n",
              "    <tr>\n",
              "      <th>count</th>\n",
              "      <td>1.469870e+05</td>\n",
              "      <td>1.469870e+05</td>\n",
              "      <td>146987.000000</td>\n",
              "      <td>146987.000000</td>\n",
              "      <td>146987.000000</td>\n",
              "      <td>146987.000000</td>\n",
              "    </tr>\n",
              "    <tr>\n",
              "      <th>mean</th>\n",
              "      <td>1.507718e+07</td>\n",
              "      <td>7.580708e+08</td>\n",
              "      <td>1.501015</td>\n",
              "      <td>26.899130</td>\n",
              "      <td>5358.641594</td>\n",
              "      <td>0.921218</td>\n",
              "    </tr>\n",
              "    <tr>\n",
              "      <th>std</th>\n",
              "      <td>4.750119e+05</td>\n",
              "      <td>3.214280e+08</td>\n",
              "      <td>0.845776</td>\n",
              "      <td>84.907724</td>\n",
              "      <td>1779.800955</td>\n",
              "      <td>0.269400</td>\n",
              "    </tr>\n",
              "    <tr>\n",
              "      <th>min</th>\n",
              "      <td>1.421073e+07</td>\n",
              "      <td>3.000000e+07</td>\n",
              "      <td>0.000000</td>\n",
              "      <td>-598.296875</td>\n",
              "      <td>0.000000</td>\n",
              "      <td>0.000000</td>\n",
              "    </tr>\n",
              "    <tr>\n",
              "      <th>25%</th>\n",
              "      <td>1.466969e+07</td>\n",
              "      <td>9.000045e+08</td>\n",
              "      <td>0.836511</td>\n",
              "      <td>-18.348755</td>\n",
              "      <td>4200.000000</td>\n",
              "      <td>1.000000</td>\n",
              "    </tr>\n",
              "    <tr>\n",
              "      <th>50%</th>\n",
              "      <td>1.509241e+07</td>\n",
              "      <td>9.000077e+08</td>\n",
              "      <td>1.390230</td>\n",
              "      <td>11.145264</td>\n",
              "      <td>5200.000000</td>\n",
              "      <td>1.000000</td>\n",
              "    </tr>\n",
              "    <tr>\n",
              "      <th>75%</th>\n",
              "      <td>1.547355e+07</td>\n",
              "      <td>9.000127e+08</td>\n",
              "      <td>2.029955</td>\n",
              "      <td>61.024353</td>\n",
              "      <td>6300.000000</td>\n",
              "      <td>1.000000</td>\n",
              "    </tr>\n",
              "    <tr>\n",
              "      <th>max</th>\n",
              "      <td>1.590252e+07</td>\n",
              "      <td>9.000173e+08</td>\n",
              "      <td>9.360177</td>\n",
              "      <td>1009.380005</td>\n",
              "      <td>108200.000000</td>\n",
              "      <td>1.000000</td>\n",
              "    </tr>\n",
              "  </tbody>\n",
              "</table>\n",
              "</div>"
            ],
            "text/plain": [
              "           order_id      store_id  ...  total_earning          taken\n",
              "count  1.469870e+05  1.469870e+05  ...  146987.000000  146987.000000\n",
              "mean   1.507718e+07  7.580708e+08  ...    5358.641594       0.921218\n",
              "std    4.750119e+05  3.214280e+08  ...    1779.800955       0.269400\n",
              "min    1.421073e+07  3.000000e+07  ...       0.000000       0.000000\n",
              "25%    1.466969e+07  9.000045e+08  ...    4200.000000       1.000000\n",
              "50%    1.509241e+07  9.000077e+08  ...    5200.000000       1.000000\n",
              "75%    1.547355e+07  9.000127e+08  ...    6300.000000       1.000000\n",
              "max    1.590252e+07  9.000173e+08  ...  108200.000000       1.000000\n",
              "\n",
              "[8 rows x 6 columns]"
            ]
          },
          "metadata": {
            "tags": []
          }
        }
      ]
    },
    {
      "cell_type": "code",
      "metadata": {
        "id": "lXhTw_QOcOU9",
        "outputId": "2503b811-d7ec-471c-af72-4a6e1f2d9c43",
        "colab": {
          "base_uri": "https://localhost:8080/",
          "height": 90
        }
      },
      "source": [
        "display(df.taken.value_counts().sort_index())\n",
        "print(\"{} % of orders were taken\".format(df.taken.mean()*100))"
      ],
      "execution_count": 4,
      "outputs": [
        {
          "output_type": "display_data",
          "data": {
            "text/plain": [
              "0     11580\n",
              "1    135407\n",
              "Name: taken, dtype: int64"
            ]
          },
          "metadata": {
            "tags": []
          }
        },
        {
          "output_type": "stream",
          "text": [
            "92.12175226380565 % of orders were taken\n"
          ],
          "name": "stdout"
        }
      ]
    },
    {
      "cell_type": "code",
      "metadata": {
        "id": "uW4mKLnQPti6",
        "outputId": "fac9fb3d-4878-4d5b-f95c-a1ec6468970e",
        "colab": {
          "base_uri": "https://localhost:8080/",
          "height": 950
        }
      },
      "source": [
        "import matplotlib.pyplot as plt\n",
        "import seaborn as sns\n",
        "\n",
        "# No earning\n",
        "display(df[df.total_earning == 0].head())\n",
        "\n",
        "plt.hist(df.total_earning, bins=100)\n",
        "plt.xlabel('Courier earning by delivering the order')\n",
        "plt.ylabel('Count of orders')\n",
        "plt.show()\n",
        "\n",
        "\n",
        "# No distance\n",
        "display(df[df.to_user_distance == 0].head())\n",
        "plt.hist(df.to_user_distance, bins=10)\n",
        "plt.xlabel('Distance (km) between store and user location')\n",
        "plt.ylabel('Count of orders')\n",
        "plt.show()\n",
        "\n",
        "#plt.hist(df.to_user_elevation, bins=100)\n",
        "#plt.xlabel('Difference in meters between the store and user altitude')\n",
        "#plt.ylabel('Count of orders')\n",
        "#plt.show()\n",
        "sns.kdeplot(df.to_user_elevation)\n",
        "\n"
      ],
      "execution_count": 25,
      "outputs": [
        {
          "output_type": "display_data",
          "data": {
            "text/html": [
              "<div>\n",
              "<style scoped>\n",
              "    .dataframe tbody tr th:only-of-type {\n",
              "        vertical-align: middle;\n",
              "    }\n",
              "\n",
              "    .dataframe tbody tr th {\n",
              "        vertical-align: top;\n",
              "    }\n",
              "\n",
              "    .dataframe thead th {\n",
              "        text-align: right;\n",
              "    }\n",
              "</style>\n",
              "<table border=\"1\" class=\"dataframe\">\n",
              "  <thead>\n",
              "    <tr style=\"text-align: right;\">\n",
              "      <th></th>\n",
              "      <th>order_id</th>\n",
              "      <th>store_id</th>\n",
              "      <th>to_user_distance</th>\n",
              "      <th>to_user_elevation</th>\n",
              "      <th>total_earning</th>\n",
              "      <th>created_at</th>\n",
              "      <th>taken</th>\n",
              "    </tr>\n",
              "  </thead>\n",
              "  <tbody>\n",
              "    <tr>\n",
              "      <th>102163</th>\n",
              "      <td>14323700</td>\n",
              "      <td>900010714</td>\n",
              "      <td>1.388912</td>\n",
              "      <td>48.826538</td>\n",
              "      <td>0</td>\n",
              "      <td>2017-09-07T12:02:05Z</td>\n",
              "      <td>1</td>\n",
              "    </tr>\n",
              "  </tbody>\n",
              "</table>\n",
              "</div>"
            ],
            "text/plain": [
              "        order_id   store_id  ...            created_at  taken\n",
              "102163  14323700  900010714  ...  2017-09-07T12:02:05Z      1\n",
              "\n",
              "[1 rows x 7 columns]"
            ]
          },
          "metadata": {
            "tags": []
          }
        },
        {
          "output_type": "display_data",
          "data": {
            "image/png": "[encoded data removed]",
            "text/plain": [
              "<Figure size 432x288 with 1 Axes>"
            ]
          },
          "metadata": {
            "tags": [],
            "needs_background": "light"
          }
        },
        {
          "output_type": "display_data",
          "data": {
            "text/html": [
              "<div>\n",
              "<style scoped>\n",
              "    .dataframe tbody tr th:only-of-type {\n",
              "        vertical-align: middle;\n",
              "    }\n",
              "\n",
              "    .dataframe tbody tr th {\n",
              "        vertical-align: top;\n",
              "    }\n",
              "\n",
              "    .dataframe thead th {\n",
              "        text-align: right;\n",
              "    }\n",
              "</style>\n",
              "<table border=\"1\" class=\"dataframe\">\n",
              "  <thead>\n",
              "    <tr style=\"text-align: right;\">\n",
              "      <th></th>\n",
              "      <th>order_id</th>\n",
              "      <th>store_id</th>\n",
              "      <th>to_user_distance</th>\n",
              "      <th>to_user_elevation</th>\n",
              "      <th>total_earning</th>\n",
              "      <th>created_at</th>\n",
              "      <th>taken</th>\n",
              "    </tr>\n",
              "  </thead>\n",
              "  <tbody>\n",
              "    <tr>\n",
              "      <th>16847</th>\n",
              "      <td>14362872</td>\n",
              "      <td>900012381</td>\n",
              "      <td>0.0</td>\n",
              "      <td>0.0</td>\n",
              "      <td>5000</td>\n",
              "      <td>2017-09-07T19:48:10Z</td>\n",
              "      <td>0</td>\n",
              "    </tr>\n",
              "  </tbody>\n",
              "</table>\n",
              "</div>"
            ],
            "text/plain": [
              "       order_id   store_id  ...            created_at  taken\n",
              "16847  14362872  900012381  ...  2017-09-07T19:48:10Z      0\n",
              "\n",
              "[1 rows x 7 columns]"
            ]
          },
          "metadata": {
            "tags": []
          }
        },
        {
          "output_type": "display_data",
          "data": {
            "image/png": "[encoded data removed]",
            "text/plain": [
              "<Figure size 432x288 with 1 Axes>"
            ]
          },
          "metadata": {
            "tags": [],
            "needs_background": "light"
          }
        },
        {
          "output_type": "execute_result",
          "data": {
            "text/plain": [
              "<matplotlib.axes._subplots.AxesSubplot at 0x7f507fb11c18>"
            ]
          },
          "metadata": {
            "tags": []
          },
          "execution_count": 25
        },
        {
          "output_type": "display_data",
          "data": {
            "image/png": "[encoded data removed]",
            "text/plain": [
              "<Figure size 432x288 with 1 Axes>"
            ]
          },
          "metadata": {
            "tags": [],
            "needs_background": "light"
          }
        }
      ]
    },
    {
      "cell_type": "markdown",
      "metadata": {
        "id": "DJFgmq-ZWr0k"
      },
      "source": [
        "## CLEANING DATA"
      ]
    },
    {
      "cell_type": "code",
      "metadata": {
        "id": "S1UDmUgvW5Cp",
        "outputId": "e9ff9a16-546a-47b1-f606-c7be6030beda",
        "colab": {
          "base_uri": "https://localhost:8080/",
          "height": 300
        }
      },
      "source": [
        "df.total_earning.replace(0,np.nan, inplace=True)\n",
        "df.to_user_distance.replace(0,np.nan, inplace=True)\n",
        "\n",
        "display(df.describe())"
      ],
      "execution_count": 6,
      "outputs": [
        {
          "output_type": "display_data",
          "data": {
            "text/html": [
              "<div>\n",
              "<style scoped>\n",
              "    .dataframe tbody tr th:only-of-type {\n",
              "        vertical-align: middle;\n",
              "    }\n",
              "\n",
              "    .dataframe tbody tr th {\n",
              "        vertical-align: top;\n",
              "    }\n",
              "\n",
              "    .dataframe thead th {\n",
              "        text-align: right;\n",
              "    }\n",
              "</style>\n",
              "<table border=\"1\" class=\"dataframe\">\n",
              "  <thead>\n",
              "    <tr style=\"text-align: right;\">\n",
              "      <th></th>\n",
              "      <th>order_id</th>\n",
              "      <th>store_id</th>\n",
              "      <th>to_user_distance</th>\n",
              "      <th>to_user_elevation</th>\n",
              "      <th>total_earning</th>\n",
              "      <th>taken</th>\n",
              "    </tr>\n",
              "  </thead>\n",
              "  <tbody>\n",
              "    <tr>\n",
              "      <th>count</th>\n",
              "      <td>1.469870e+05</td>\n",
              "      <td>1.469870e+05</td>\n",
              "      <td>146986.000000</td>\n",
              "      <td>146987.000000</td>\n",
              "      <td>146986.000000</td>\n",
              "      <td>146987.000000</td>\n",
              "    </tr>\n",
              "    <tr>\n",
              "      <th>mean</th>\n",
              "      <td>1.507718e+07</td>\n",
              "      <td>7.580708e+08</td>\n",
              "      <td>1.501026</td>\n",
              "      <td>26.899130</td>\n",
              "      <td>5358.678051</td>\n",
              "      <td>0.921218</td>\n",
              "    </tr>\n",
              "    <tr>\n",
              "      <th>std</th>\n",
              "      <td>4.750119e+05</td>\n",
              "      <td>3.214280e+08</td>\n",
              "      <td>0.845770</td>\n",
              "      <td>84.907724</td>\n",
              "      <td>1779.752125</td>\n",
              "      <td>0.269400</td>\n",
              "    </tr>\n",
              "    <tr>\n",
              "      <th>min</th>\n",
              "      <td>1.421073e+07</td>\n",
              "      <td>3.000000e+07</td>\n",
              "      <td>0.002456</td>\n",
              "      <td>-598.296875</td>\n",
              "      <td>200.000000</td>\n",
              "      <td>0.000000</td>\n",
              "    </tr>\n",
              "    <tr>\n",
              "      <th>25%</th>\n",
              "      <td>1.466969e+07</td>\n",
              "      <td>9.000045e+08</td>\n",
              "      <td>0.836530</td>\n",
              "      <td>-18.348755</td>\n",
              "      <td>4200.000000</td>\n",
              "      <td>1.000000</td>\n",
              "    </tr>\n",
              "    <tr>\n",
              "      <th>50%</th>\n",
              "      <td>1.509241e+07</td>\n",
              "      <td>9.000077e+08</td>\n",
              "      <td>1.390234</td>\n",
              "      <td>11.145264</td>\n",
              "      <td>5200.000000</td>\n",
              "      <td>1.000000</td>\n",
              "    </tr>\n",
              "    <tr>\n",
              "      <th>75%</th>\n",
              "      <td>1.547355e+07</td>\n",
              "      <td>9.000127e+08</td>\n",
              "      <td>2.029961</td>\n",
              "      <td>61.024353</td>\n",
              "      <td>6300.000000</td>\n",
              "      <td>1.000000</td>\n",
              "    </tr>\n",
              "    <tr>\n",
              "      <th>max</th>\n",
              "      <td>1.590252e+07</td>\n",
              "      <td>9.000173e+08</td>\n",
              "      <td>9.360177</td>\n",
              "      <td>1009.380005</td>\n",
              "      <td>108200.000000</td>\n",
              "      <td>1.000000</td>\n",
              "    </tr>\n",
              "  </tbody>\n",
              "</table>\n",
              "</div>"
            ],
            "text/plain": [
              "           order_id      store_id  ...  total_earning          taken\n",
              "count  1.469870e+05  1.469870e+05  ...  146986.000000  146987.000000\n",
              "mean   1.507718e+07  7.580708e+08  ...    5358.678051       0.921218\n",
              "std    4.750119e+05  3.214280e+08  ...    1779.752125       0.269400\n",
              "min    1.421073e+07  3.000000e+07  ...     200.000000       0.000000\n",
              "25%    1.466969e+07  9.000045e+08  ...    4200.000000       1.000000\n",
              "50%    1.509241e+07  9.000077e+08  ...    5200.000000       1.000000\n",
              "75%    1.547355e+07  9.000127e+08  ...    6300.000000       1.000000\n",
              "max    1.590252e+07  9.000173e+08  ...  108200.000000       1.000000\n",
              "\n",
              "[8 rows x 6 columns]"
            ]
          },
          "metadata": {
            "tags": []
          }
        }
      ]
    },
    {
      "cell_type": "markdown",
      "metadata": {
        "id": "TL4boGTQ-gkH"
      },
      "source": [
        "# TRAINING"
      ]
    },
    {
      "cell_type": "code",
      "metadata": {
        "id": "f2vyNphI-pLG",
        "outputId": "9d6c53c6-d005-4564-adb7-ea1de7d596ab",
        "colab": {
          "base_uri": "https://localhost:8080/",
          "height": 237
        }
      },
      "source": [
        "features = ['to_user_distance','to_user_elevation','total_earning']\n",
        "target = ['taken']\n",
        "\n",
        "X = df[features].values\n",
        "y = df[target].values.reshape(-1,1)\n",
        "\n",
        "display(X[:5],X.shape)\n",
        "display(y[:5],y.shape)"
      ],
      "execution_count": 37,
      "outputs": [
        {
          "output_type": "display_data",
          "data": {
            "text/plain": [
              "array([[ 2.47810068e+00, -7.27193604e+01,  4.20000000e+03],\n",
              "       [ 4.51710600e-01,  3.77547607e+01,  4.20000000e+03],\n",
              "       [ 2.02607186e+00,  2.07191162e+02,  4.00000000e+03],\n",
              "       [ 2.67143172e+00,  1.72265625e+00,  4.40000000e+03],\n",
              "       [ 9.65496042e-01,  1.17429199e+02,  3.45000000e+03]])"
            ]
          },
          "metadata": {
            "tags": []
          }
        },
        {
          "output_type": "display_data",
          "data": {
            "text/plain": [
              "(146987, 3)"
            ]
          },
          "metadata": {
            "tags": []
          }
        },
        {
          "output_type": "display_data",
          "data": {
            "text/plain": [
              "array([[0],\n",
              "       [0],\n",
              "       [0],\n",
              "       [1],\n",
              "       [1]])"
            ]
          },
          "metadata": {
            "tags": []
          }
        },
        {
          "output_type": "display_data",
          "data": {
            "text/plain": [
              "(146987, 1)"
            ]
          },
          "metadata": {
            "tags": []
          }
        }
      ]
    },
    {
      "cell_type": "markdown",
      "metadata": {
        "id": "Mv_g590iBZGI"
      },
      "source": [
        "## PREPARE TRAIN AND TEST DATA"
      ]
    },
    {
      "cell_type": "code",
      "metadata": {
        "id": "p7EV71a9Bl6X",
        "outputId": "399f077b-bc81-4372-d89e-58622d45c72b",
        "colab": {
          "base_uri": "https://localhost:8080/",
          "height": 54
        }
      },
      "source": [
        "from sklearn.model_selection import train_test_split\n",
        "\n",
        "X_train, X_test, y_train, y_test = train_test_split(X, y, test_size=0.3, random_state=21, stratify=y)\n",
        "\n",
        "print(\"Training set X: {}  y: {}\".format(X_train.shape,y_train.shape))\n",
        "print(\"Test set X: {}  y: {}\".format(X_test.shape,y_test.shape))"
      ],
      "execution_count": 38,
      "outputs": [
        {
          "output_type": "stream",
          "text": [
            "Training set X: (102890, 3)  y: (102890, 1)\n",
            "Test set X: (44097, 3)  y: (44097, 1)\n"
          ],
          "name": "stdout"
        }
      ]
    },
    {
      "cell_type": "code",
      "metadata": {
        "id": "DYDod6AWG4Ii"
      },
      "source": [
        "from sklearn.preprocessing import StandardScaler\n",
        "#\n",
        "from sklearn.pipeline import Pipeline\n",
        "#\n",
        "from sklearn.neighbors import KNeighborsClassifier\n",
        "\n",
        "classifier = KNeighborsClassifier(n_neighbors=3)\n",
        "\n",
        "steps = [('scaler', StandardScaler()),\n",
        "         ('clf', classifier)]\n",
        "\n",
        "pipeline = Pipeline(steps)\n",
        "\n",
        "parameters = {'clf__n_neighbors': (3,5,10)}\n"
      ],
      "execution_count": 54,
      "outputs": []
    },
    {
      "cell_type": "markdown",
      "metadata": {
        "id": "bpQpqM-4buiG"
      },
      "source": [
        "## TRAINING WITH CROSS VALIDATION"
      ]
    },
    {
      "cell_type": "code",
      "metadata": {
        "id": "zx5eb6fEap18",
        "outputId": "8cf5859f-e2c7-4e3a-a9c2-94de2c01feb9",
        "colab": {
          "base_uri": "https://localhost:8080/",
          "height": 496
        }
      },
      "source": [
        "from sklearn.model_selection import GridSearchCV\n",
        "from pprint import pprint\n",
        "from time import time\n",
        "\n",
        "grid_search = GridSearchCV(pipeline, parameters, n_jobs=-1, verbose=1)\n",
        "\n",
        "print(\"Performing grid search...\")\n",
        "print(\"pipeline:\", [name for name, _ in pipeline.steps])\n",
        "print(\"parameters:\")\n",
        "pprint(parameters)\n",
        "t0 = time()\n",
        "grid_search.fit(X_train, y_train)\n",
        "print(\"Done in %0.3fs\" % (time() - t0))\n",
        "print()\n",
        "print(\"Best score: %0.3f\" % grid_search.best_score_)\n",
        "print(\"Best parameters set:\")\n",
        "best_parameters = grid_search.best_estimator_.get_params()\n",
        "for param_name in sorted(parameters.keys()):\n",
        "  print(\"\\t%s: %r\" % (param_name, best_parameters[param_name]))\n",
        "\n",
        "model=grid_search.best_estimator_\n",
        "\n",
        "print(\"\\nBEST MODEL :\")\n",
        "display(model)"
      ],
      "execution_count": 55,
      "outputs": [
        {
          "output_type": "stream",
          "text": [
            "Performing grid search...\n",
            "pipeline: ['scaler', 'clf']\n",
            "parameters:\n",
            "{'clf__n_neighbors': (3, 5, 10)}\n",
            "Fitting 5 folds for each of 3 candidates, totalling 15 fits\n"
          ],
          "name": "stdout"
        },
        {
          "output_type": "stream",
          "text": [
            "[Parallel(n_jobs=-1)]: Using backend LokyBackend with 2 concurrent workers.\n",
            "[Parallel(n_jobs=-1)]: Done  15 out of  15 | elapsed:   11.4s finished\n",
            "/usr/local/lib/python3.6/dist-packages/sklearn/pipeline.py:354: DataConversionWarning: A column-vector y was passed when a 1d array was expected. Please change the shape of y to (n_samples, ), for example using ravel().\n",
            "  self._final_estimator.fit(Xt, y, **fit_params)\n"
          ],
          "name": "stderr"
        },
        {
          "output_type": "stream",
          "text": [
            "Done in 11.677s\n",
            "\n",
            "Best score: 0.919\n",
            "Best parameters set:\n",
            "\tclf__n_neighbors: 10\n",
            "\n",
            "BEST MODEL :\n"
          ],
          "name": "stdout"
        },
        {
          "output_type": "display_data",
          "data": {
            "text/plain": [
              "Pipeline(memory=None,\n",
              "         steps=[('scaler',\n",
              "                 StandardScaler(copy=True, with_mean=True, with_std=True)),\n",
              "                ('clf',\n",
              "                 KNeighborsClassifier(algorithm='auto', leaf_size=30,\n",
              "                                      metric='minkowski', metric_params=None,\n",
              "                                      n_jobs=None, n_neighbors=10, p=2,\n",
              "                                      weights='uniform'))],\n",
              "         verbose=False)"
            ]
          },
          "metadata": {
            "tags": []
          }
        }
      ]
    },
    {
      "cell_type": "markdown",
      "metadata": {
        "id": "fnCXAgMUb8Ip"
      },
      "source": [
        "# TEST MODEL"
      ]
    },
    {
      "cell_type": "code",
      "metadata": {
        "id": "9Fck2oB_cDXW",
        "outputId": "3f27c85d-7f65-4896-e81a-69cc5a5ab2c2",
        "colab": {
          "base_uri": "https://localhost:8080/",
          "height": 256
        }
      },
      "source": [
        "from sklearn.metrics import confusion_matrix\n",
        "from sklearn.metrics import classification_report\n",
        "from sklearn.metrics import accuracy_score\n",
        "\n",
        "\n",
        "y_pred = model.predict(X_test)\n",
        "print(\"confusion matrix:\")\n",
        "display(confusion_matrix(y_test, y_pred))\n",
        "print(classification_report(y_test, y_pred))\n",
        "print(\"Accuracy: {}\".format(accuracy_score(y_test, y_pred)))"
      ],
      "execution_count": 60,
      "outputs": [
        {
          "output_type": "stream",
          "text": [
            "confusion matrix:\n"
          ],
          "name": "stdout"
        },
        {
          "output_type": "display_data",
          "data": {
            "text/plain": [
              "array([[   47,  3427],\n",
              "       [  152, 40471]])"
            ]
          },
          "metadata": {
            "tags": []
          }
        },
        {
          "output_type": "stream",
          "text": [
            "              precision    recall  f1-score   support\n",
            "\n",
            "           0       0.24      0.01      0.03      3474\n",
            "           1       0.92      1.00      0.96     40623\n",
            "\n",
            "    accuracy                           0.92     44097\n",
            "   macro avg       0.58      0.50      0.49     44097\n",
            "weighted avg       0.87      0.92      0.88     44097\n",
            "\n",
            "Accuracy: 0.9188380161915777\n"
          ],
          "name": "stdout"
        }
      ]
    },
    {
      "cell_type": "markdown",
      "metadata": {
        "id": "QNHStJnwgdTm"
      },
      "source": [
        "# SAVE MODEL"
      ]
    },
    {
      "cell_type": "code",
      "metadata": {
        "id": "dOmDZdQigckv",
        "outputId": "2b2a63ea-2937-4197-ab9f-1690dd923773",
        "colab": {
          "base_uri": "https://localhost:8080/",
          "height": 35
        }
      },
      "source": [
        "import joblib\n",
        "\n",
        "filename='model.joblib'\n",
        "\n",
        "joblib.dump(model, filename)"
      ],
      "execution_count": 62,
      "outputs": [
        {
          "output_type": "execute_result",
          "data": {
            "text/plain": [
              "['model.joblib']"
            ]
          },
          "metadata": {
            "tags": []
          },
          "execution_count": 62
        }
      ]
    }
  ]
}