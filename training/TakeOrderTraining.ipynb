{
  "nbformat": 4,
  "nbformat_minor": 0,
  "metadata": {
    "colab": {
      "name": "Untitled",
      "provenance": [],
      "collapsed_sections": [],
      "toc_visible": true,
      "authorship_tag": "ABX9TyO1/vpzEbTnAYe8CFTf/IMa",
      "include_colab_link": true
    },
    "kernelspec": {
      "name": "python3",
      "display_name": "Python 3"
    }
  },
  "cells": [
    {
      "cell_type": "markdown",
      "metadata": {
        "id": "view-in-github",
        "colab_type": "text"
      },
      "source": [
        "<a href=\"https://colab.research.google.com/github/fuserkuba/OrderTaking/blob/master/training/TakeOrderTraining.ipynb\" target=\"_parent\"><img src=\"https://colab.research.google.com/assets/colab-badge.svg\" alt=\"Open In Colab\"/></a>"
      ]
    },
    {
      "cell_type": "markdown",
      "metadata": {
        "id": "uy0sHNVZIren"
      },
      "source": [
        "LOADING DATA"
      ]
    },
    {
      "cell_type": "code",
      "metadata": {
        "id": "-B2RLkMD9VG8",
        "outputId": "be4114c6-0156-4b26-9087-32a0f2c6cdf0",
        "colab": {
          "base_uri": "https://localhost:8080/",
          "height": 274
        }
      },
      "source": [
        "import pandas as pd\n",
        "import numpy as np\n",
        "import requests\n",
        "\n",
        "\n",
        "filename = \"https://raw.githubusercontent.com/fuserkuba/OrderTaking/master/training/orders.csv\"\n",
        "\n",
        "df = pd.read_csv(filename, na_values=[\"\"], parse_dates=['created_at'], infer_datetime_format=True)\n",
        "\n",
        "df.info()"
      ],
      "execution_count": 97,
      "outputs": [
        {
          "output_type": "stream",
          "text": [
            "<class 'pandas.core.frame.DataFrame'>\n",
            "RangeIndex: 146987 entries, 0 to 146986\n",
            "Data columns (total 7 columns):\n",
            " #   Column             Non-Null Count   Dtype         \n",
            "---  ------             --------------   -----         \n",
            " 0   order_id           146987 non-null  int64         \n",
            " 1   store_id           146987 non-null  int64         \n",
            " 2   to_user_distance   146987 non-null  float64       \n",
            " 3   to_user_elevation  146987 non-null  float64       \n",
            " 4   total_earning      146987 non-null  int64         \n",
            " 5   created_at         146987 non-null  datetime64[ns]\n",
            " 6   taken              146987 non-null  int64         \n",
            "dtypes: datetime64[ns](1), float64(2), int64(4)\n",
            "memory usage: 7.9 MB\n"
          ],
          "name": "stdout"
        }
      ]
    },
    {
      "cell_type": "markdown",
      "metadata": {
        "id": "GAd5yCpILzHK"
      },
      "source": [
        "# EXPLORATORY DATA ANALYSIS"
      ]
    },
    {
      "cell_type": "code",
      "metadata": {
        "id": "GFkIhq3wIwH1",
        "outputId": "ef65beef-7a88-4c87-a709-c33bf211e612",
        "colab": {
          "base_uri": "https://localhost:8080/",
          "height": 490
        }
      },
      "source": [
        "display(df.head())\n",
        "\n",
        "display(df.describe())"
      ],
      "execution_count": 73,
      "outputs": [
        {
          "output_type": "display_data",
          "data": {
            "text/html": [
              "<div>\n",
              "<style scoped>\n",
              "    .dataframe tbody tr th:only-of-type {\n",
              "        vertical-align: middle;\n",
              "    }\n",
              "\n",
              "    .dataframe tbody tr th {\n",
              "        vertical-align: top;\n",
              "    }\n",
              "\n",
              "    .dataframe thead th {\n",
              "        text-align: right;\n",
              "    }\n",
              "</style>\n",
              "<table border=\"1\" class=\"dataframe\">\n",
              "  <thead>\n",
              "    <tr style=\"text-align: right;\">\n",
              "      <th></th>\n",
              "      <th>order_id</th>\n",
              "      <th>store_id</th>\n",
              "      <th>to_user_distance</th>\n",
              "      <th>to_user_elevation</th>\n",
              "      <th>total_earning</th>\n",
              "      <th>created_at</th>\n",
              "      <th>taken</th>\n",
              "    </tr>\n",
              "  </thead>\n",
              "  <tbody>\n",
              "    <tr>\n",
              "      <th>0</th>\n",
              "      <td>14364873</td>\n",
              "      <td>30000009</td>\n",
              "      <td>2.478101</td>\n",
              "      <td>-72.719360</td>\n",
              "      <td>4200</td>\n",
              "      <td>2017-09-07 20:02:17</td>\n",
              "      <td>0</td>\n",
              "    </tr>\n",
              "    <tr>\n",
              "      <th>1</th>\n",
              "      <td>14370123</td>\n",
              "      <td>30000058</td>\n",
              "      <td>0.451711</td>\n",
              "      <td>37.754761</td>\n",
              "      <td>4200</td>\n",
              "      <td>2017-09-07 20:13:16</td>\n",
              "      <td>0</td>\n",
              "    </tr>\n",
              "    <tr>\n",
              "      <th>2</th>\n",
              "      <td>14368534</td>\n",
              "      <td>900003684</td>\n",
              "      <td>2.026072</td>\n",
              "      <td>207.191162</td>\n",
              "      <td>4000</td>\n",
              "      <td>2017-09-07 20:07:23</td>\n",
              "      <td>0</td>\n",
              "    </tr>\n",
              "    <tr>\n",
              "      <th>3</th>\n",
              "      <td>14370258</td>\n",
              "      <td>900014452</td>\n",
              "      <td>2.671432</td>\n",
              "      <td>1.722656</td>\n",
              "      <td>4400</td>\n",
              "      <td>2017-09-07 20:15:19</td>\n",
              "      <td>1</td>\n",
              "    </tr>\n",
              "    <tr>\n",
              "      <th>4</th>\n",
              "      <td>14369923</td>\n",
              "      <td>900014085</td>\n",
              "      <td>0.965496</td>\n",
              "      <td>117.429199</td>\n",
              "      <td>3450</td>\n",
              "      <td>2017-09-07 20:12:14</td>\n",
              "      <td>1</td>\n",
              "    </tr>\n",
              "  </tbody>\n",
              "</table>\n",
              "</div>"
            ],
            "text/plain": [
              "   order_id   store_id  ...          created_at  taken\n",
              "0  14364873   30000009  ... 2017-09-07 20:02:17      0\n",
              "1  14370123   30000058  ... 2017-09-07 20:13:16      0\n",
              "2  14368534  900003684  ... 2017-09-07 20:07:23      0\n",
              "3  14370258  900014452  ... 2017-09-07 20:15:19      1\n",
              "4  14369923  900014085  ... 2017-09-07 20:12:14      1\n",
              "\n",
              "[5 rows x 7 columns]"
            ]
          },
          "metadata": {
            "tags": []
          }
        },
        {
          "output_type": "display_data",
          "data": {
            "text/html": [
              "<div>\n",
              "<style scoped>\n",
              "    .dataframe tbody tr th:only-of-type {\n",
              "        vertical-align: middle;\n",
              "    }\n",
              "\n",
              "    .dataframe tbody tr th {\n",
              "        vertical-align: top;\n",
              "    }\n",
              "\n",
              "    .dataframe thead th {\n",
              "        text-align: right;\n",
              "    }\n",
              "</style>\n",
              "<table border=\"1\" class=\"dataframe\">\n",
              "  <thead>\n",
              "    <tr style=\"text-align: right;\">\n",
              "      <th></th>\n",
              "      <th>order_id</th>\n",
              "      <th>store_id</th>\n",
              "      <th>to_user_distance</th>\n",
              "      <th>to_user_elevation</th>\n",
              "      <th>total_earning</th>\n",
              "      <th>taken</th>\n",
              "    </tr>\n",
              "  </thead>\n",
              "  <tbody>\n",
              "    <tr>\n",
              "      <th>count</th>\n",
              "      <td>1.469870e+05</td>\n",
              "      <td>1.469870e+05</td>\n",
              "      <td>146987.000000</td>\n",
              "      <td>146987.000000</td>\n",
              "      <td>146987.000000</td>\n",
              "      <td>146987.000000</td>\n",
              "    </tr>\n",
              "    <tr>\n",
              "      <th>mean</th>\n",
              "      <td>1.507718e+07</td>\n",
              "      <td>7.580708e+08</td>\n",
              "      <td>1.501015</td>\n",
              "      <td>26.899130</td>\n",
              "      <td>5358.641594</td>\n",
              "      <td>0.921218</td>\n",
              "    </tr>\n",
              "    <tr>\n",
              "      <th>std</th>\n",
              "      <td>4.750119e+05</td>\n",
              "      <td>3.214280e+08</td>\n",
              "      <td>0.845776</td>\n",
              "      <td>84.907724</td>\n",
              "      <td>1779.800955</td>\n",
              "      <td>0.269400</td>\n",
              "    </tr>\n",
              "    <tr>\n",
              "      <th>min</th>\n",
              "      <td>1.421073e+07</td>\n",
              "      <td>3.000000e+07</td>\n",
              "      <td>0.000000</td>\n",
              "      <td>-598.296875</td>\n",
              "      <td>0.000000</td>\n",
              "      <td>0.000000</td>\n",
              "    </tr>\n",
              "    <tr>\n",
              "      <th>25%</th>\n",
              "      <td>1.466969e+07</td>\n",
              "      <td>9.000045e+08</td>\n",
              "      <td>0.836511</td>\n",
              "      <td>-18.348755</td>\n",
              "      <td>4200.000000</td>\n",
              "      <td>1.000000</td>\n",
              "    </tr>\n",
              "    <tr>\n",
              "      <th>50%</th>\n",
              "      <td>1.509241e+07</td>\n",
              "      <td>9.000077e+08</td>\n",
              "      <td>1.390230</td>\n",
              "      <td>11.145264</td>\n",
              "      <td>5200.000000</td>\n",
              "      <td>1.000000</td>\n",
              "    </tr>\n",
              "    <tr>\n",
              "      <th>75%</th>\n",
              "      <td>1.547355e+07</td>\n",
              "      <td>9.000127e+08</td>\n",
              "      <td>2.029955</td>\n",
              "      <td>61.024353</td>\n",
              "      <td>6300.000000</td>\n",
              "      <td>1.000000</td>\n",
              "    </tr>\n",
              "    <tr>\n",
              "      <th>max</th>\n",
              "      <td>1.590252e+07</td>\n",
              "      <td>9.000173e+08</td>\n",
              "      <td>9.360177</td>\n",
              "      <td>1009.380005</td>\n",
              "      <td>108200.000000</td>\n",
              "      <td>1.000000</td>\n",
              "    </tr>\n",
              "  </tbody>\n",
              "</table>\n",
              "</div>"
            ],
            "text/plain": [
              "           order_id      store_id  ...  total_earning          taken\n",
              "count  1.469870e+05  1.469870e+05  ...  146987.000000  146987.000000\n",
              "mean   1.507718e+07  7.580708e+08  ...    5358.641594       0.921218\n",
              "std    4.750119e+05  3.214280e+08  ...    1779.800955       0.269400\n",
              "min    1.421073e+07  3.000000e+07  ...       0.000000       0.000000\n",
              "25%    1.466969e+07  9.000045e+08  ...    4200.000000       1.000000\n",
              "50%    1.509241e+07  9.000077e+08  ...    5200.000000       1.000000\n",
              "75%    1.547355e+07  9.000127e+08  ...    6300.000000       1.000000\n",
              "max    1.590252e+07  9.000173e+08  ...  108200.000000       1.000000\n",
              "\n",
              "[8 rows x 6 columns]"
            ]
          },
          "metadata": {
            "tags": []
          }
        }
      ]
    },
    {
      "cell_type": "code",
      "metadata": {
        "id": "lXhTw_QOcOU9",
        "outputId": "81a8aded-7a41-4811-8b17-7b67c3586c05",
        "colab": {
          "base_uri": "https://localhost:8080/",
          "height": 90
        }
      },
      "source": [
        "display(df.taken.value_counts().sort_index())\n",
        "print(\"%0.2f percent of orders taken\" % (df.taken.mean()*100))"
      ],
      "execution_count": 65,
      "outputs": [
        {
          "output_type": "display_data",
          "data": {
            "text/plain": [
              "0     11580\n",
              "1    135407\n",
              "Name: taken, dtype: int64"
            ]
          },
          "metadata": {
            "tags": []
          }
        },
        {
          "output_type": "stream",
          "text": [
            "92.12 percent of orders taken\n"
          ],
          "name": "stdout"
        }
      ]
    },
    {
      "cell_type": "code",
      "metadata": {
        "id": "uW4mKLnQPti6",
        "outputId": "6f147d2d-42ca-4908-ea20-0eaf434f2002",
        "colab": {
          "base_uri": "https://localhost:8080/",
          "height": 950
        }
      },
      "source": [
        "import matplotlib.pyplot as plt\n",
        "import seaborn as sns\n",
        "\n",
        "# No earning\n",
        "display(df[df.total_earning == 0].head())\n",
        "\n",
        "plt.hist(df.total_earning, bins=100)\n",
        "plt.xlabel('Courier earning by delivering the order')\n",
        "plt.ylabel('Count of orders')\n",
        "plt.show()\n",
        "\n",
        "\n",
        "# No distance\n",
        "display(df[df.to_user_distance == 0].head())\n",
        "plt.hist(df.to_user_distance, bins=10)\n",
        "plt.xlabel('Distance (km) between store and user location')\n",
        "plt.ylabel('Count of orders')\n",
        "plt.show()\n",
        "\n",
        "#plt.hist(df.to_user_elevation, bins=100)\n",
        "#plt.xlabel('Difference in meters between the store and user altitude')\n",
        "#plt.ylabel('Count of orders')\n",
        "#plt.show()\n",
        "sns.kdeplot(df.to_user_elevation)\n",
        "\n"
      ],
      "execution_count": null,
      "outputs": [
        {
          "output_type": "display_data",
          "data": {
            "text/html": [
              "<div>\n",
              "<style scoped>\n",
              "    .dataframe tbody tr th:only-of-type {\n",
              "        vertical-align: middle;\n",
              "    }\n",
              "\n",
              "    .dataframe tbody tr th {\n",
              "        vertical-align: top;\n",
              "    }\n",
              "\n",
              "    .dataframe thead th {\n",
              "        text-align: right;\n",
              "    }\n",
              "</style>\n",
              "<table border=\"1\" class=\"dataframe\">\n",
              "  <thead>\n",
              "    <tr style=\"text-align: right;\">\n",
              "      <th></th>\n",
              "      <th>order_id</th>\n",
              "      <th>store_id</th>\n",
              "      <th>to_user_distance</th>\n",
              "      <th>to_user_elevation</th>\n",
              "      <th>total_earning</th>\n",
              "      <th>created_at</th>\n",
              "      <th>taken</th>\n",
              "    </tr>\n",
              "  </thead>\n",
              "  <tbody>\n",
              "    <tr>\n",
              "      <th>102163</th>\n",
              "      <td>14323700</td>\n",
              "      <td>900010714</td>\n",
              "      <td>1.388912</td>\n",
              "      <td>48.826538</td>\n",
              "      <td>0</td>\n",
              "      <td>2017-09-07T12:02:05Z</td>\n",
              "      <td>1</td>\n",
              "    </tr>\n",
              "  </tbody>\n",
              "</table>\n",
              "</div>"
            ],
            "text/plain": [
              "        order_id   store_id  ...            created_at  taken\n",
              "102163  14323700  900010714  ...  2017-09-07T12:02:05Z      1\n",
              "\n",
              "[1 rows x 7 columns]"
            ]
          },
          "metadata": {
            "tags": []
          }
        },
        {
          "output_type": "display_data",
          "data": {
            "image/png": "[encoded data removed]",
            "text/plain": [
              "<Figure size 432x288 with 1 Axes>"
            ]
          },
          "metadata": {
            "tags": [],
            "needs_background": "light"
          }
        },
        {
          "output_type": "display_data",
          "data": {
            "text/html": [
              "<div>\n",
              "<style scoped>\n",
              "    .dataframe tbody tr th:only-of-type {\n",
              "        vertical-align: middle;\n",
              "    }\n",
              "\n",
              "    .dataframe tbody tr th {\n",
              "        vertical-align: top;\n",
              "    }\n",
              "\n",
              "    .dataframe thead th {\n",
              "        text-align: right;\n",
              "    }\n",
              "</style>\n",
              "<table border=\"1\" class=\"dataframe\">\n",
              "  <thead>\n",
              "    <tr style=\"text-align: right;\">\n",
              "      <th></th>\n",
              "      <th>order_id</th>\n",
              "      <th>store_id</th>\n",
              "      <th>to_user_distance</th>\n",
              "      <th>to_user_elevation</th>\n",
              "      <th>total_earning</th>\n",
              "      <th>created_at</th>\n",
              "      <th>taken</th>\n",
              "    </tr>\n",
              "  </thead>\n",
              "  <tbody>\n",
              "    <tr>\n",
              "      <th>16847</th>\n",
              "      <td>14362872</td>\n",
              "      <td>900012381</td>\n",
              "      <td>0.0</td>\n",
              "      <td>0.0</td>\n",
              "      <td>5000</td>\n",
              "      <td>2017-09-07T19:48:10Z</td>\n",
              "      <td>0</td>\n",
              "    </tr>\n",
              "  </tbody>\n",
              "</table>\n",
              "</div>"
            ],
            "text/plain": [
              "       order_id   store_id  ...            created_at  taken\n",
              "16847  14362872  900012381  ...  2017-09-07T19:48:10Z      0\n",
              "\n",
              "[1 rows x 7 columns]"
            ]
          },
          "metadata": {
            "tags": []
          }
        },
        {
          "output_type": "display_data",
          "data": {
            "image/png": "[encoded data removed]",
            "text/plain": [
              "<Figure size 432x288 with 1 Axes>"
            ]
          },
          "metadata": {
            "tags": [],
            "needs_background": "light"
          }
        },
        {
          "output_type": "execute_result",
          "data": {
            "text/plain": [
              "<matplotlib.axes._subplots.AxesSubplot at 0x7fa12158e518>"
            ]
          },
          "metadata": {
            "tags": []
          },
          "execution_count": 18
        },
        {
          "output_type": "display_data",
          "data": {
            "image/png": "[encoded data removed]",
            "text/plain": [
              "<Figure size 432x288 with 1 Axes>"
            ]
          },
          "metadata": {
            "tags": [],
            "needs_background": "light"
          }
        }
      ]
    },
    {
      "cell_type": "markdown",
      "metadata": {
        "id": "DJFgmq-ZWr0k"
      },
      "source": [
        "## FEATURE ENGINEERING"
      ]
    },
    {
      "cell_type": "code",
      "metadata": {
        "id": "S1UDmUgvW5Cp",
        "outputId": "193ad694-8489-4f76-8592-15eafca4c136",
        "colab": {
          "base_uri": "https://localhost:8080/",
          "height": 865
        }
      },
      "source": [
        "from collections import Counter\n",
        "\n",
        "display(df.head())\n",
        "display(df.describe())\n",
        "print(\"Dataset: {}\".format(df.shape))\n",
        "print('Dataset classes %s' % Counter(df.taken))\n",
        "\n",
        "df.total_earning.replace(0,np.nan, inplace=True)\n",
        "df.to_user_distance.replace(0,np.nan, inplace=True)\n",
        "df.dropna(inplace=True)\n",
        "\n",
        "df['month']=df.created_at.dt.month\n",
        "# Monday is 0 and Sunday is 6\n",
        "df['weekday']=df.created_at.dt.weekday\n",
        "df['day']=df.created_at.dt.day\n",
        "df['hour']=df.created_at.dt.hour\n",
        "df['working_time']=(df.created_at - pd.to_timedelta(8,unit='H')).dt.hour*60+df.created_at.dt.minute\n",
        "\n",
        "min_qt=0.01\n",
        "max_qt=0.99\n",
        "\n",
        "# filter extreme values\n",
        "df_ready = df[df.total_earning.gt(df.total_earning.quantile(min_qt))\n",
        "        & df.total_earning.lt(df.total_earning.quantile(max_qt))\n",
        "        & df.to_user_distance.gt(df.to_user_distance.quantile(min_qt))\n",
        "        & df.to_user_distance.lt(df.to_user_distance.quantile(max_qt))\n",
        "        & df.to_user_elevation.gt(df.to_user_elevation.quantile(min_qt))\n",
        "        & df.to_user_elevation.lt(df.to_user_elevation.quantile(max_qt))]\n",
        "\n",
        "print(\"\\nFiltered dataset: {}\".format(df_ready.shape))\n",
        "print('Filtered dataset classes %s' % Counter(df_ready.taken))\n",
        "display(df_ready.describe())"
      ],
      "execution_count": 164,
      "outputs": [
        {
          "output_type": "display_data",
          "data": {
            "text/html": [
              "<div>\n",
              "<style scoped>\n",
              "    .dataframe tbody tr th:only-of-type {\n",
              "        vertical-align: middle;\n",
              "    }\n",
              "\n",
              "    .dataframe tbody tr th {\n",
              "        vertical-align: top;\n",
              "    }\n",
              "\n",
              "    .dataframe thead th {\n",
              "        text-align: right;\n",
              "    }\n",
              "</style>\n",
              "<table border=\"1\" class=\"dataframe\">\n",
              "  <thead>\n",
              "    <tr style=\"text-align: right;\">\n",
              "      <th></th>\n",
              "      <th>order_id</th>\n",
              "      <th>store_id</th>\n",
              "      <th>to_user_distance</th>\n",
              "      <th>to_user_elevation</th>\n",
              "      <th>total_earning</th>\n",
              "      <th>created_at</th>\n",
              "      <th>taken</th>\n",
              "      <th>month</th>\n",
              "      <th>weekday</th>\n",
              "      <th>day</th>\n",
              "      <th>hour</th>\n",
              "      <th>working_time</th>\n",
              "    </tr>\n",
              "  </thead>\n",
              "  <tbody>\n",
              "    <tr>\n",
              "      <th>0</th>\n",
              "      <td>14364873</td>\n",
              "      <td>30000009</td>\n",
              "      <td>2.478101</td>\n",
              "      <td>-72.719360</td>\n",
              "      <td>4200.0</td>\n",
              "      <td>2017-09-07 20:02:17</td>\n",
              "      <td>0</td>\n",
              "      <td>9</td>\n",
              "      <td>3</td>\n",
              "      <td>7</td>\n",
              "      <td>20</td>\n",
              "      <td>722</td>\n",
              "    </tr>\n",
              "    <tr>\n",
              "      <th>1</th>\n",
              "      <td>14370123</td>\n",
              "      <td>30000058</td>\n",
              "      <td>0.451711</td>\n",
              "      <td>37.754761</td>\n",
              "      <td>4200.0</td>\n",
              "      <td>2017-09-07 20:13:16</td>\n",
              "      <td>0</td>\n",
              "      <td>9</td>\n",
              "      <td>3</td>\n",
              "      <td>7</td>\n",
              "      <td>20</td>\n",
              "      <td>733</td>\n",
              "    </tr>\n",
              "    <tr>\n",
              "      <th>2</th>\n",
              "      <td>14368534</td>\n",
              "      <td>900003684</td>\n",
              "      <td>2.026072</td>\n",
              "      <td>207.191162</td>\n",
              "      <td>4000.0</td>\n",
              "      <td>2017-09-07 20:07:23</td>\n",
              "      <td>0</td>\n",
              "      <td>9</td>\n",
              "      <td>3</td>\n",
              "      <td>7</td>\n",
              "      <td>20</td>\n",
              "      <td>727</td>\n",
              "    </tr>\n",
              "    <tr>\n",
              "      <th>3</th>\n",
              "      <td>14370258</td>\n",
              "      <td>900014452</td>\n",
              "      <td>2.671432</td>\n",
              "      <td>1.722656</td>\n",
              "      <td>4400.0</td>\n",
              "      <td>2017-09-07 20:15:19</td>\n",
              "      <td>1</td>\n",
              "      <td>9</td>\n",
              "      <td>3</td>\n",
              "      <td>7</td>\n",
              "      <td>20</td>\n",
              "      <td>735</td>\n",
              "    </tr>\n",
              "    <tr>\n",
              "      <th>4</th>\n",
              "      <td>14369923</td>\n",
              "      <td>900014085</td>\n",
              "      <td>0.965496</td>\n",
              "      <td>117.429199</td>\n",
              "      <td>3450.0</td>\n",
              "      <td>2017-09-07 20:12:14</td>\n",
              "      <td>1</td>\n",
              "      <td>9</td>\n",
              "      <td>3</td>\n",
              "      <td>7</td>\n",
              "      <td>20</td>\n",
              "      <td>732</td>\n",
              "    </tr>\n",
              "  </tbody>\n",
              "</table>\n",
              "</div>"
            ],
            "text/plain": [
              "   order_id   store_id  to_user_distance  ...  day  hour working_time\n",
              "0  14364873   30000009          2.478101  ...    7    20          722\n",
              "1  14370123   30000058          0.451711  ...    7    20          733\n",
              "2  14368534  900003684          2.026072  ...    7    20          727\n",
              "3  14370258  900014452          2.671432  ...    7    20          735\n",
              "4  14369923  900014085          0.965496  ...    7    20          732\n",
              "\n",
              "[5 rows x 12 columns]"
            ]
          },
          "metadata": {
            "tags": []
          }
        },
        {
          "output_type": "display_data",
          "data": {
            "text/html": [
              "<div>\n",
              "<style scoped>\n",
              "    .dataframe tbody tr th:only-of-type {\n",
              "        vertical-align: middle;\n",
              "    }\n",
              "\n",
              "    .dataframe tbody tr th {\n",
              "        vertical-align: top;\n",
              "    }\n",
              "\n",
              "    .dataframe thead th {\n",
              "        text-align: right;\n",
              "    }\n",
              "</style>\n",
              "<table border=\"1\" class=\"dataframe\">\n",
              "  <thead>\n",
              "    <tr style=\"text-align: right;\">\n",
              "      <th></th>\n",
              "      <th>order_id</th>\n",
              "      <th>store_id</th>\n",
              "      <th>to_user_distance</th>\n",
              "      <th>to_user_elevation</th>\n",
              "      <th>total_earning</th>\n",
              "      <th>taken</th>\n",
              "      <th>month</th>\n",
              "      <th>weekday</th>\n",
              "      <th>day</th>\n",
              "      <th>hour</th>\n",
              "      <th>working_time</th>\n",
              "    </tr>\n",
              "  </thead>\n",
              "  <tbody>\n",
              "    <tr>\n",
              "      <th>count</th>\n",
              "      <td>1.469850e+05</td>\n",
              "      <td>1.469850e+05</td>\n",
              "      <td>146985.000000</td>\n",
              "      <td>146985.000000</td>\n",
              "      <td>146985.000000</td>\n",
              "      <td>146985.000000</td>\n",
              "      <td>146985.000000</td>\n",
              "      <td>146985.000000</td>\n",
              "      <td>146985.000000</td>\n",
              "      <td>146985.000000</td>\n",
              "      <td>146985.000000</td>\n",
              "    </tr>\n",
              "    <tr>\n",
              "      <th>mean</th>\n",
              "      <td>1.507719e+07</td>\n",
              "      <td>7.580689e+08</td>\n",
              "      <td>1.501026</td>\n",
              "      <td>26.899164</td>\n",
              "      <td>5358.680491</td>\n",
              "      <td>0.921223</td>\n",
              "      <td>9.124319</td>\n",
              "      <td>3.368629</td>\n",
              "      <td>16.007994</td>\n",
              "      <td>15.759261</td>\n",
              "      <td>516.452005</td>\n",
              "    </tr>\n",
              "    <tr>\n",
              "      <th>std</th>\n",
              "      <td>4.750074e+05</td>\n",
              "      <td>3.214297e+08</td>\n",
              "      <td>0.845773</td>\n",
              "      <td>84.908253</td>\n",
              "      <td>1779.757934</td>\n",
              "      <td>0.269391</td>\n",
              "      <td>0.329946</td>\n",
              "      <td>2.031409</td>\n",
              "      <td>8.709759</td>\n",
              "      <td>3.803294</td>\n",
              "      <td>227.689464</td>\n",
              "    </tr>\n",
              "    <tr>\n",
              "      <th>min</th>\n",
              "      <td>1.421073e+07</td>\n",
              "      <td>3.000000e+07</td>\n",
              "      <td>0.002456</td>\n",
              "      <td>-598.296875</td>\n",
              "      <td>200.000000</td>\n",
              "      <td>0.000000</td>\n",
              "      <td>9.000000</td>\n",
              "      <td>0.000000</td>\n",
              "      <td>1.000000</td>\n",
              "      <td>0.000000</td>\n",
              "      <td>0.000000</td>\n",
              "    </tr>\n",
              "    <tr>\n",
              "      <th>25%</th>\n",
              "      <td>1.466971e+07</td>\n",
              "      <td>9.000045e+08</td>\n",
              "      <td>0.836521</td>\n",
              "      <td>-18.348755</td>\n",
              "      <td>4200.000000</td>\n",
              "      <td>1.000000</td>\n",
              "      <td>9.000000</td>\n",
              "      <td>2.000000</td>\n",
              "      <td>9.000000</td>\n",
              "      <td>13.000000</td>\n",
              "      <td>320.000000</td>\n",
              "    </tr>\n",
              "    <tr>\n",
              "      <th>50%</th>\n",
              "      <td>1.509245e+07</td>\n",
              "      <td>9.000077e+08</td>\n",
              "      <td>1.390239</td>\n",
              "      <td>11.145264</td>\n",
              "      <td>5200.000000</td>\n",
              "      <td>1.000000</td>\n",
              "      <td>9.000000</td>\n",
              "      <td>4.000000</td>\n",
              "      <td>16.000000</td>\n",
              "      <td>16.000000</td>\n",
              "      <td>518.000000</td>\n",
              "    </tr>\n",
              "    <tr>\n",
              "      <th>75%</th>\n",
              "      <td>1.547356e+07</td>\n",
              "      <td>9.000127e+08</td>\n",
              "      <td>2.029967</td>\n",
              "      <td>61.026733</td>\n",
              "      <td>6300.000000</td>\n",
              "      <td>1.000000</td>\n",
              "      <td>9.000000</td>\n",
              "      <td>5.000000</td>\n",
              "      <td>24.000000</td>\n",
              "      <td>19.000000</td>\n",
              "      <td>695.000000</td>\n",
              "    </tr>\n",
              "    <tr>\n",
              "      <th>max</th>\n",
              "      <td>1.590252e+07</td>\n",
              "      <td>9.000173e+08</td>\n",
              "      <td>9.360177</td>\n",
              "      <td>1009.380005</td>\n",
              "      <td>108200.000000</td>\n",
              "      <td>1.000000</td>\n",
              "      <td>10.000000</td>\n",
              "      <td>6.000000</td>\n",
              "      <td>30.000000</td>\n",
              "      <td>23.000000</td>\n",
              "      <td>1439.000000</td>\n",
              "    </tr>\n",
              "  </tbody>\n",
              "</table>\n",
              "</div>"
            ],
            "text/plain": [
              "           order_id      store_id  ...           hour   working_time\n",
              "count  1.469850e+05  1.469850e+05  ...  146985.000000  146985.000000\n",
              "mean   1.507719e+07  7.580689e+08  ...      15.759261     516.452005\n",
              "std    4.750074e+05  3.214297e+08  ...       3.803294     227.689464\n",
              "min    1.421073e+07  3.000000e+07  ...       0.000000       0.000000\n",
              "25%    1.466971e+07  9.000045e+08  ...      13.000000     320.000000\n",
              "50%    1.509245e+07  9.000077e+08  ...      16.000000     518.000000\n",
              "75%    1.547356e+07  9.000127e+08  ...      19.000000     695.000000\n",
              "max    1.590252e+07  9.000173e+08  ...      23.000000    1439.000000\n",
              "\n",
              "[8 rows x 11 columns]"
            ]
          },
          "metadata": {
            "tags": []
          }
        },
        {
          "output_type": "stream",
          "text": [
            "Dataset: (146985, 12)\n",
            "Dataset classes Counter({1: 135406, 0: 11579})\n",
            "\n",
            "Filtered dataset: (121100, 12)\n",
            "Filtered dataset classes Counter({1: 112740, 0: 8360})\n"
          ],
          "name": "stdout"
        },
        {
          "output_type": "display_data",
          "data": {
            "text/html": [
              "<div>\n",
              "<style scoped>\n",
              "    .dataframe tbody tr th:only-of-type {\n",
              "        vertical-align: middle;\n",
              "    }\n",
              "\n",
              "    .dataframe tbody tr th {\n",
              "        vertical-align: top;\n",
              "    }\n",
              "\n",
              "    .dataframe thead th {\n",
              "        text-align: right;\n",
              "    }\n",
              "</style>\n",
              "<table border=\"1\" class=\"dataframe\">\n",
              "  <thead>\n",
              "    <tr style=\"text-align: right;\">\n",
              "      <th></th>\n",
              "      <th>order_id</th>\n",
              "      <th>store_id</th>\n",
              "      <th>to_user_distance</th>\n",
              "      <th>to_user_elevation</th>\n",
              "      <th>total_earning</th>\n",
              "      <th>taken</th>\n",
              "      <th>month</th>\n",
              "      <th>weekday</th>\n",
              "      <th>day</th>\n",
              "      <th>hour</th>\n",
              "      <th>working_time</th>\n",
              "    </tr>\n",
              "  </thead>\n",
              "  <tbody>\n",
              "    <tr>\n",
              "      <th>count</th>\n",
              "      <td>1.211000e+05</td>\n",
              "      <td>1.211000e+05</td>\n",
              "      <td>121100.000000</td>\n",
              "      <td>121100.000000</td>\n",
              "      <td>121100.000000</td>\n",
              "      <td>121100.000000</td>\n",
              "      <td>121100.000000</td>\n",
              "      <td>121100.000000</td>\n",
              "      <td>121100.000000</td>\n",
              "      <td>121100.000000</td>\n",
              "      <td>121100.000000</td>\n",
              "    </tr>\n",
              "    <tr>\n",
              "      <th>mean</th>\n",
              "      <td>1.508509e+07</td>\n",
              "      <td>7.562192e+08</td>\n",
              "      <td>1.506939</td>\n",
              "      <td>28.350602</td>\n",
              "      <td>5570.334533</td>\n",
              "      <td>0.930966</td>\n",
              "      <td>9.125912</td>\n",
              "      <td>3.479397</td>\n",
              "      <td>16.090462</td>\n",
              "      <td>15.777787</td>\n",
              "      <td>519.114368</td>\n",
              "    </tr>\n",
              "    <tr>\n",
              "      <th>std</th>\n",
              "      <td>4.654947e+05</td>\n",
              "      <td>3.231051e+08</td>\n",
              "      <td>0.809854</td>\n",
              "      <td>79.106165</td>\n",
              "      <td>1441.106066</td>\n",
              "      <td>0.253513</td>\n",
              "      <td>0.331752</td>\n",
              "      <td>2.053898</td>\n",
              "      <td>8.652565</td>\n",
              "      <td>3.839756</td>\n",
              "      <td>229.571407</td>\n",
              "    </tr>\n",
              "    <tr>\n",
              "      <th>min</th>\n",
              "      <td>1.421073e+07</td>\n",
              "      <td>3.000000e+07</td>\n",
              "      <td>0.158367</td>\n",
              "      <td>-165.454834</td>\n",
              "      <td>3203.000000</td>\n",
              "      <td>0.000000</td>\n",
              "      <td>9.000000</td>\n",
              "      <td>0.000000</td>\n",
              "      <td>1.000000</td>\n",
              "      <td>0.000000</td>\n",
              "      <td>0.000000</td>\n",
              "    </tr>\n",
              "    <tr>\n",
              "      <th>25%</th>\n",
              "      <td>1.469873e+07</td>\n",
              "      <td>9.000044e+08</td>\n",
              "      <td>0.857849</td>\n",
              "      <td>-17.981873</td>\n",
              "      <td>4500.000000</td>\n",
              "      <td>1.000000</td>\n",
              "      <td>9.000000</td>\n",
              "      <td>2.000000</td>\n",
              "      <td>9.000000</td>\n",
              "      <td>13.000000</td>\n",
              "      <td>321.000000</td>\n",
              "    </tr>\n",
              "    <tr>\n",
              "      <th>50%</th>\n",
              "      <td>1.509862e+07</td>\n",
              "      <td>9.000077e+08</td>\n",
              "      <td>1.405103</td>\n",
              "      <td>13.009888</td>\n",
              "      <td>5200.000000</td>\n",
              "      <td>1.000000</td>\n",
              "      <td>9.000000</td>\n",
              "      <td>4.000000</td>\n",
              "      <td>17.000000</td>\n",
              "      <td>16.000000</td>\n",
              "      <td>524.000000</td>\n",
              "    </tr>\n",
              "    <tr>\n",
              "      <th>75%</th>\n",
              "      <td>1.545964e+07</td>\n",
              "      <td>9.000127e+08</td>\n",
              "      <td>2.041370</td>\n",
              "      <td>64.194855</td>\n",
              "      <td>6500.000000</td>\n",
              "      <td>1.000000</td>\n",
              "      <td>9.000000</td>\n",
              "      <td>5.000000</td>\n",
              "      <td>24.000000</td>\n",
              "      <td>19.000000</td>\n",
              "      <td>698.000000</td>\n",
              "    </tr>\n",
              "    <tr>\n",
              "      <th>max</th>\n",
              "      <td>1.590252e+07</td>\n",
              "      <td>9.000173e+08</td>\n",
              "      <td>3.773078</td>\n",
              "      <td>276.601074</td>\n",
              "      <td>10850.000000</td>\n",
              "      <td>1.000000</td>\n",
              "      <td>10.000000</td>\n",
              "      <td>6.000000</td>\n",
              "      <td>30.000000</td>\n",
              "      <td>23.000000</td>\n",
              "      <td>1439.000000</td>\n",
              "    </tr>\n",
              "  </tbody>\n",
              "</table>\n",
              "</div>"
            ],
            "text/plain": [
              "           order_id      store_id  ...           hour   working_time\n",
              "count  1.211000e+05  1.211000e+05  ...  121100.000000  121100.000000\n",
              "mean   1.508509e+07  7.562192e+08  ...      15.777787     519.114368\n",
              "std    4.654947e+05  3.231051e+08  ...       3.839756     229.571407\n",
              "min    1.421073e+07  3.000000e+07  ...       0.000000       0.000000\n",
              "25%    1.469873e+07  9.000044e+08  ...      13.000000     321.000000\n",
              "50%    1.509862e+07  9.000077e+08  ...      16.000000     524.000000\n",
              "75%    1.545964e+07  9.000127e+08  ...      19.000000     698.000000\n",
              "max    1.590252e+07  9.000173e+08  ...      23.000000    1439.000000\n",
              "\n",
              "[8 rows x 11 columns]"
            ]
          },
          "metadata": {
            "tags": []
          }
        }
      ]
    },
    {
      "cell_type": "markdown",
      "metadata": {
        "id": "TL4boGTQ-gkH"
      },
      "source": [
        "# TRAINING"
      ]
    },
    {
      "cell_type": "code",
      "metadata": {
        "id": "f2vyNphI-pLG",
        "outputId": "43ef42ab-584d-4aad-a70d-762841171c3e",
        "colab": {
          "base_uri": "https://localhost:8080/",
          "height": 348
        }
      },
      "source": [
        "features = ['to_user_distance','to_user_elevation','total_earning','weekday','day','hour','working_time']\n",
        "target = ['taken']\n",
        "\n",
        "X = df_ready[features].values\n",
        "y = df_ready[target].values.ravel()\n",
        "\n",
        "display(X[:5],X.shape)\n",
        "display(y[:5],y.shape)"
      ],
      "execution_count": 166,
      "outputs": [
        {
          "output_type": "display_data",
          "data": {
            "text/plain": [
              "array([[ 2.47810068e+00, -7.27193604e+01,  4.20000000e+03,\n",
              "         3.00000000e+00,  7.00000000e+00,  2.00000000e+01,\n",
              "         7.22000000e+02],\n",
              "       [ 4.51710600e-01,  3.77547607e+01,  4.20000000e+03,\n",
              "         3.00000000e+00,  7.00000000e+00,  2.00000000e+01,\n",
              "         7.33000000e+02],\n",
              "       [ 2.02607186e+00,  2.07191162e+02,  4.00000000e+03,\n",
              "         3.00000000e+00,  7.00000000e+00,  2.00000000e+01,\n",
              "         7.27000000e+02],\n",
              "       [ 2.67143172e+00,  1.72265625e+00,  4.40000000e+03,\n",
              "         3.00000000e+00,  7.00000000e+00,  2.00000000e+01,\n",
              "         7.35000000e+02],\n",
              "       [ 9.65496042e-01,  1.17429199e+02,  3.45000000e+03,\n",
              "         3.00000000e+00,  7.00000000e+00,  2.00000000e+01,\n",
              "         7.32000000e+02]])"
            ]
          },
          "metadata": {
            "tags": []
          }
        },
        {
          "output_type": "display_data",
          "data": {
            "text/plain": [
              "(121100, 7)"
            ]
          },
          "metadata": {
            "tags": []
          }
        },
        {
          "output_type": "display_data",
          "data": {
            "text/plain": [
              "array([0, 0, 0, 1, 1], dtype=int64)"
            ]
          },
          "metadata": {
            "tags": []
          }
        },
        {
          "output_type": "display_data",
          "data": {
            "text/plain": [
              "(121100,)"
            ]
          },
          "metadata": {
            "tags": []
          }
        }
      ]
    },
    {
      "cell_type": "markdown",
      "metadata": {
        "id": "Mv_g590iBZGI"
      },
      "source": [
        "## PREPARE TRAIN AND TEST DATA"
      ]
    },
    {
      "cell_type": "code",
      "metadata": {
        "id": "p7EV71a9Bl6X",
        "outputId": "eaf4c3f2-c512-49b5-dae2-ee37b6093c94",
        "colab": {
          "base_uri": "https://localhost:8080/",
          "height": 90
        }
      },
      "source": [
        "from sklearn.model_selection import train_test_split\n",
        "\n",
        "X_train, X_test, y_train, y_test = train_test_split(X, y, test_size=0.3, random_state=21, stratify=y)\n",
        "\n",
        "print(\"Training set X: {}  y: {}\".format(X_train.shape,y_train.shape))\n",
        "print(\"Test set X: {}  y: {}\".format(X_test.shape,y_test.shape))\n",
        "\n",
        "print('Training dataset shape %s' % Counter(y_train))\n",
        "print('Test dataset shape %s' % Counter(y_test))"
      ],
      "execution_count": 167,
      "outputs": [
        {
          "output_type": "stream",
          "text": [
            "Training set X: (84770, 7)  y: (84770,)\n",
            "Test set X: (36330, 7)  y: (36330,)\n",
            "Training dataset shape Counter({1: 78918, 0: 5852})\n",
            "Test dataset shape Counter({1: 33822, 0: 2508})\n"
          ],
          "name": "stdout"
        }
      ]
    },
    {
      "cell_type": "code",
      "metadata": {
        "id": "_rxiITfN8nQH",
        "outputId": "eb3b28e1-ae27-4da6-da06-5297191fb020",
        "colab": {
          "base_uri": "https://localhost:8080/",
          "height": 147
        }
      },
      "source": [
        "from imblearn.combine import SMOTEENN # Combine over- and under-sampling using SMOTE and Edited Nearest Neighbours.\n",
        "from imblearn.over_sampling import SMOTE # Class to perform over-sampling using SMOTE.\n",
        "from imblearn.under_sampling import RandomUnderSampler # Under-sample the majority class(es) by randomly picking samples with or without replacement.\n",
        "from imblearn.pipeline import Pipeline\n",
        "\n",
        "\n",
        "#sme = SMOTEENN(random_state=42)\n",
        "# define pipeline\n",
        "over = SMOTE(sampling_strategy=0.2)\n",
        "under = RandomUnderSampler(sampling_strategy=0.5)\n",
        "steps = [('o', over), ('u', under)]\n",
        "pipeline = Pipeline(steps=steps)\n",
        "\n",
        "# transform the dataset\n",
        "X_res, y_res = pipeline.fit_resample(X_train, y_train)\n",
        "\n",
        "print('Resampled dataset shape %s' % Counter(y_train))\n",
        "print('Resampled dataset shape %s' % Counter(y_res))\n",
        "\n",
        "X_train = X_res\n",
        "y_train = y_res"
      ],
      "execution_count": 168,
      "outputs": [
        {
          "output_type": "stream",
          "text": [
            "Resampled dataset shape Counter({1: 78918, 0: 5852})\n",
            "Resampled dataset shape Counter({1: 31566, 0: 15783})\n"
          ],
          "name": "stdout"
        },
        {
          "output_type": "stream",
          "text": [
            "/usr/local/lib/python3.6/dist-packages/sklearn/utils/deprecation.py:87: FutureWarning: Function safe_indexing is deprecated; safe_indexing is deprecated in version 0.22 and will be removed in version 0.24.\n",
            "  warnings.warn(msg, category=FutureWarning)\n",
            "/usr/local/lib/python3.6/dist-packages/sklearn/utils/deprecation.py:87: FutureWarning: Function safe_indexing is deprecated; safe_indexing is deprecated in version 0.22 and will be removed in version 0.24.\n",
            "  warnings.warn(msg, category=FutureWarning)\n"
          ],
          "name": "stderr"
        }
      ]
    },
    {
      "cell_type": "code",
      "metadata": {
        "id": "DYDod6AWG4Ii",
        "outputId": "c6d605cf-830f-49b7-9618-dedcbe8bdc8f",
        "colab": {
          "base_uri": "https://localhost:8080/",
          "height": 127
        }
      },
      "source": [
        "from sklearn.preprocessing import StandardScaler\n",
        "#\n",
        "from sklearn.pipeline import Pipeline\n",
        "#\n",
        "from sklearn.neighbors import KNeighborsClassifier\n",
        "from sklearn.ensemble import RandomForestClassifier\n",
        "import xgboost as xgb\n",
        "\n",
        "#classifier = KNeighborsClassifier(n_neighbors=3)\n",
        "classifier = RandomForestClassifier(criterion='gini',max_features='auto',n_jobs=-1)\n",
        "#classifier = xgb.XGBClassifier(objective='binary:logistic', n_estimators=10, seed=123)\n",
        "\n",
        "steps = [('scaler', StandardScaler()),\n",
        "         ('clf', classifier)]\n",
        "\n",
        "pipeline = Pipeline(steps)\n",
        "\n",
        "# parameters = {'clf__n_neighbors': (3,5,10)}\n",
        "parameters = {\n",
        "'clf__max_depth': [80, 100],\n",
        "'clf__max_features': [2, 4],\n",
        "'clf__min_samples_leaf': [3, 5],\n",
        "'clf__min_samples_split': [8, 10],\n",
        "'clf__n_estimators': [300, 400],\n",
        "'clf__class_weight': ['balanced','balanced_subsample']\n",
        "}\n",
        "\n",
        "display(parameters)\n"
      ],
      "execution_count": 169,
      "outputs": [
        {
          "output_type": "display_data",
          "data": {
            "text/plain": [
              "{'clf__class_weight': ['balanced', 'balanced_subsample'],\n",
              " 'clf__max_depth': [80, 100],\n",
              " 'clf__max_features': [2, 4],\n",
              " 'clf__min_samples_leaf': [3, 5],\n",
              " 'clf__min_samples_split': [8, 10],\n",
              " 'clf__n_estimators': [300, 400]}"
            ]
          },
          "metadata": {
            "tags": []
          }
        }
      ]
    },
    {
      "cell_type": "markdown",
      "metadata": {
        "id": "bpQpqM-4buiG"
      },
      "source": [
        "## CROSS VALIDATION"
      ]
    },
    {
      "cell_type": "code",
      "metadata": {
        "id": "zx5eb6fEap18",
        "outputId": "dda35f8a-1679-4632-f488-cca3edf5a715",
        "colab": {
          "base_uri": "https://localhost:8080/",
          "height": 697
        }
      },
      "source": [
        "from sklearn.model_selection import GridSearchCV\n",
        "from pprint import pprint\n",
        "from time import time\n",
        "\n",
        "grid_search = GridSearchCV(pipeline, parameters, n_jobs=-1, verbose=1, scoring='roc_auc')\n",
        "\n",
        "print(\"Performing grid search...\")\n",
        "print(\"pipeline:\", [name for name, _ in pipeline.steps])\n",
        "t0 = time()\n",
        "grid_search.fit(X_train, y_train)\n",
        "print(\"Done in %0.3fs\" % (time() - t0))\n",
        "print()\n",
        "print(\"Best score: %0.3f\" % grid_search.best_score_)\n",
        "print(\"Best parameters set:\")\n",
        "best_parameters = grid_search.best_estimator_.get_params()\n",
        "for param_name in sorted(parameters.keys()):\n",
        "  print(\"\\t%s: %r\" % (param_name, best_parameters[param_name]))\n",
        "\n",
        "model=grid_search.best_estimator_\n",
        "\n",
        "print(\"\\nBEST MODEL :\")\n",
        "display(model)\n",
        "\n",
        "print(\"BEST SCORE : {}\".format(grid_search.best_score_))"
      ],
      "execution_count": 170,
      "outputs": [
        {
          "output_type": "stream",
          "text": [
            "Performing grid search...\n",
            "pipeline: ['scaler', 'clf']\n",
            "Fitting 5 folds for each of 64 candidates, totalling 320 fits\n"
          ],
          "name": "stdout"
        },
        {
          "output_type": "stream",
          "text": [
            "[Parallel(n_jobs=-1)]: Using backend LokyBackend with 2 concurrent workers.\n",
            "[Parallel(n_jobs=-1)]: Done  46 tasks      | elapsed: 15.9min\n",
            "[Parallel(n_jobs=-1)]: Done 196 tasks      | elapsed: 78.9min\n",
            "[Parallel(n_jobs=-1)]: Done 320 out of 320 | elapsed: 139.0min finished\n"
          ],
          "name": "stderr"
        },
        {
          "output_type": "stream",
          "text": [
            "Done in 8369.833s\n",
            "\n",
            "Best score: 0.907\n",
            "Best parameters set:\n",
            "\tclf__class_weight: 'balanced_subsample'\n",
            "\tclf__max_depth: 100\n",
            "\tclf__max_features: 2\n",
            "\tclf__min_samples_leaf: 3\n",
            "\tclf__min_samples_split: 8\n",
            "\tclf__n_estimators: 400\n",
            "\n",
            "BEST MODEL :\n"
          ],
          "name": "stdout"
        },
        {
          "output_type": "display_data",
          "data": {
            "text/plain": [
              "Pipeline(memory=None,\n",
              "         steps=[('scaler',\n",
              "                 StandardScaler(copy=True, with_mean=True, with_std=True)),\n",
              "                ('clf',\n",
              "                 RandomForestClassifier(bootstrap=True, ccp_alpha=0.0,\n",
              "                                        class_weight='balanced_subsample',\n",
              "                                        criterion='gini', max_depth=100,\n",
              "                                        max_features=2, max_leaf_nodes=None,\n",
              "                                        max_samples=None,\n",
              "                                        min_impurity_decrease=0.0,\n",
              "                                        min_impurity_split=None,\n",
              "                                        min_samples_leaf=3, min_samples_split=8,\n",
              "                                        min_weight_fraction_leaf=0.0,\n",
              "                                        n_estimators=400, n_jobs=-1,\n",
              "                                        oob_score=False, random_state=None,\n",
              "                                        verbose=0, warm_start=False))],\n",
              "         verbose=False)"
            ]
          },
          "metadata": {
            "tags": []
          }
        },
        {
          "output_type": "stream",
          "text": [
            "BEST SCORE : 0.9073640193153997\n"
          ],
          "name": "stdout"
        }
      ]
    },
    {
      "cell_type": "markdown",
      "metadata": {
        "id": "fnCXAgMUb8Ip"
      },
      "source": [
        "## TEST MODEL"
      ]
    },
    {
      "cell_type": "code",
      "metadata": {
        "id": "9Fck2oB_cDXW",
        "outputId": "8ddd3caa-11fc-4251-a0a3-02c7e1ed3a40",
        "colab": {
          "base_uri": "https://localhost:8080/",
          "height": 552
        }
      },
      "source": [
        "from sklearn.metrics import confusion_matrix\n",
        "from sklearn.metrics import classification_report\n",
        "from sklearn.metrics import accuracy_score\n",
        "from sklearn.metrics import precision_recall_curve\n",
        "from sklearn.metrics import average_precision_score\n",
        "from sklearn.metrics import roc_auc_score\n",
        "from sklearn.metrics import plot_roc_curve\n",
        "\n",
        "y_pred = model.predict(X_test)\n",
        "\n",
        "print(\"confusion matrix:\")\n",
        "print(confusion_matrix(y_test, y_pred))\n",
        "print(classification_report(y_test, y_pred))\n",
        "print(\"ROC_AUC: %0.2f\" % roc_auc_score(y_test, y_pred))\n",
        "print(\"Accuracy: %0.2f\" % accuracy_score(y_test, y_pred))\n",
        "\n",
        "fig, ax = plt.subplots()\n",
        "viz = plot_roc_curve(model, X_test, y_test,name='ROC',alpha=0.5, lw=1, ax=ax)\n",
        "ax.set(xlim=[-0.05, 1.05], ylim=[-0.05, 1.05],\n",
        "       title=\"Receiver operating characteristic for best model\")\n",
        "ax.legend(loc=\"lower right\")\n",
        "plt.show()"
      ],
      "execution_count": 171,
      "outputs": [
        {
          "output_type": "stream",
          "text": [
            "confusion matrix:\n",
            "[[  674  1834]\n",
            " [ 2018 31804]]\n",
            "              precision    recall  f1-score   support\n",
            "\n",
            "           0       0.25      0.27      0.26      2508\n",
            "           1       0.95      0.94      0.94     33822\n",
            "\n",
            "    accuracy                           0.89     36330\n",
            "   macro avg       0.60      0.60      0.60     36330\n",
            "weighted avg       0.90      0.89      0.90     36330\n",
            "\n",
            "ROC_AUC: 0.60\n",
            "Accuracy: 0.89\n"
          ],
          "name": "stdout"
        },
        {
          "output_type": "display_data",
          "data": {
            "image/png": "[encoded data removed]",
            "text/plain": [
              "<Figure size 432x288 with 1 Axes>"
            ]
          },
          "metadata": {
            "tags": [],
            "needs_background": "light"
          }
        }
      ]
    },
    {
      "cell_type": "markdown",
      "metadata": {
        "id": "QNHStJnwgdTm"
      },
      "source": [
        "# SAVE MODEL"
      ]
    },
    {
      "cell_type": "code",
      "metadata": {
        "id": "dOmDZdQigckv",
        "outputId": "4e2cdc7d-6c7c-4a6c-c41e-a6082a5f92f7",
        "colab": {
          "base_uri": "https://localhost:8080/",
          "height": 35
        }
      },
      "source": [
        "import joblib\n",
        "\n",
        "filename='model.joblib'\n",
        "\n",
        "joblib.dump(model, filename)"
      ],
      "execution_count": 172,
      "outputs": [
        {
          "output_type": "execute_result",
          "data": {
            "text/plain": [
              "['model.joblib']"
            ]
          },
          "metadata": {
            "tags": []
          },
          "execution_count": 172
        }
      ]
    }
  ]
}