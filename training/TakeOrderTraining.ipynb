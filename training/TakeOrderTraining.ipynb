{
  "nbformat": 4,
  "nbformat_minor": 0,
  "metadata": {
    "colab": {
      "name": "TakeOrder.ipynb",
      "provenance": [],
      "collapsed_sections": [],
      "authorship_tag": "ABX9TyOEQFB+wQjdlZbBqCIz6yhV",
      "include_colab_link": true
    },
    "kernelspec": {
      "name": "python3",
      "display_name": "Python 3"
    }
  },
  "cells": [
    {
      "cell_type": "markdown",
      "metadata": {
        "id": "view-in-github",
        "colab_type": "text"
      },
      "source": [
        "<a href=\"https://colab.research.google.com/github/fuserkuba/OrderTaking/blob/master/training/TakeOrderTraining.ipynb\" target=\"_parent\"><img src=\"https://colab.research.google.com/assets/colab-badge.svg\" alt=\"Open In Colab\"/></a>"
      ]
    },
    {
      "cell_type": "code",
      "metadata": {
        "id": "-B2RLkMD9VG8",
        "outputId": "98d35aed-e662-4417-cf23-4472e6cfe038",
        "colab": {
          "base_uri": "https://localhost:8080/",
          "height": 206
        }
      },
      "source": [
        "import pandas as pd\n",
        "import numpy as np\n",
        "import requests\n",
        "\n",
        "\n",
        "filename = \"https://raw.githubusercontent.com/fuserkuba/OrderTaking/master/training/orders.csv?token=AC524KMGKU3WLO6TJLFTXVC7RMFEK\"\n",
        "\n",
        "df = pd.read_csv(filename)\n",
        "\n",
        "df.head()"
      ],
      "execution_count": 6,
      "outputs": [
        {
          "output_type": "execute_result",
          "data": {
            "text/html": [
              "<div>\n",
              "<style scoped>\n",
              "    .dataframe tbody tr th:only-of-type {\n",
              "        vertical-align: middle;\n",
              "    }\n",
              "\n",
              "    .dataframe tbody tr th {\n",
              "        vertical-align: top;\n",
              "    }\n",
              "\n",
              "    .dataframe thead th {\n",
              "        text-align: right;\n",
              "    }\n",
              "</style>\n",
              "<table border=\"1\" class=\"dataframe\">\n",
              "  <thead>\n",
              "    <tr style=\"text-align: right;\">\n",
              "      <th></th>\n",
              "      <th>order_id</th>\n",
              "      <th>store_id</th>\n",
              "      <th>to_user_distance</th>\n",
              "      <th>to_user_elevation</th>\n",
              "      <th>total_earning</th>\n",
              "      <th>created_at</th>\n",
              "      <th>taken</th>\n",
              "    </tr>\n",
              "  </thead>\n",
              "  <tbody>\n",
              "    <tr>\n",
              "      <th>0</th>\n",
              "      <td>14364873</td>\n",
              "      <td>30000009</td>\n",
              "      <td>2.478101</td>\n",
              "      <td>-72.719360</td>\n",
              "      <td>4200</td>\n",
              "      <td>2017-09-07T20:02:17Z</td>\n",
              "      <td>0</td>\n",
              "    </tr>\n",
              "    <tr>\n",
              "      <th>1</th>\n",
              "      <td>14370123</td>\n",
              "      <td>30000058</td>\n",
              "      <td>0.451711</td>\n",
              "      <td>37.754761</td>\n",
              "      <td>4200</td>\n",
              "      <td>2017-09-07T20:13:16Z</td>\n",
              "      <td>0</td>\n",
              "    </tr>\n",
              "    <tr>\n",
              "      <th>2</th>\n",
              "      <td>14368534</td>\n",
              "      <td>900003684</td>\n",
              "      <td>2.026072</td>\n",
              "      <td>207.191162</td>\n",
              "      <td>4000</td>\n",
              "      <td>2017-09-07T20:07:23Z</td>\n",
              "      <td>0</td>\n",
              "    </tr>\n",
              "    <tr>\n",
              "      <th>3</th>\n",
              "      <td>14370258</td>\n",
              "      <td>900014452</td>\n",
              "      <td>2.671432</td>\n",
              "      <td>1.722656</td>\n",
              "      <td>4400</td>\n",
              "      <td>2017-09-07T20:15:19Z</td>\n",
              "      <td>1</td>\n",
              "    </tr>\n",
              "    <tr>\n",
              "      <th>4</th>\n",
              "      <td>14369923</td>\n",
              "      <td>900014085</td>\n",
              "      <td>0.965496</td>\n",
              "      <td>117.429199</td>\n",
              "      <td>3450</td>\n",
              "      <td>2017-09-07T20:12:14Z</td>\n",
              "      <td>1</td>\n",
              "    </tr>\n",
              "  </tbody>\n",
              "</table>\n",
              "</div>"
            ],
            "text/plain": [
              "   order_id   store_id  ...            created_at  taken\n",
              "0  14364873   30000009  ...  2017-09-07T20:02:17Z      0\n",
              "1  14370123   30000058  ...  2017-09-07T20:13:16Z      0\n",
              "2  14368534  900003684  ...  2017-09-07T20:07:23Z      0\n",
              "3  14370258  900014452  ...  2017-09-07T20:15:19Z      1\n",
              "4  14369923  900014085  ...  2017-09-07T20:12:14Z      1\n",
              "\n",
              "[5 rows x 7 columns]"
            ]
          },
          "metadata": {
            "tags": []
          },
          "execution_count": 6
        }
      ]
    }
  ]
}